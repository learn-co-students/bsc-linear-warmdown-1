{
 "cells": [
  {
   "cell_type": "code",
   "execution_count": null,
   "id": "8e7d87d8",
   "metadata": {
    "index": 0,
    "solution": false
   },
   "outputs": [],
   "source": [
    "# Primary libraries\n",
    "import pandas as pd\n",
    "import numpy as np\n",
    "import statsmodels.api as sm\n",
    "import statsmodels.formula.api as smf\n",
    "\n",
    "# Custom functions\n",
    "from src import helpers"
   ]
  },
  {
   "cell_type": "markdown",
   "id": "8dfea4ad",
   "metadata": {
    "index": 2,
    "solution": false
   },
   "source": [
    "# Linear Regression Practice\n",
    "\n",
    "A dataset called `diabetes.csv` is stored in the `data` folder for this repository. \n",
    "\n",
    "In the cell below, read in the dataset using pandas, and output the head of the dataframe. Assign the dataframe to the variable `df`."
   ]
  },
  {
   "cell_type": "code",
   "execution_count": null,
   "id": "8f1cdd23",
   "metadata": {
    "index": 3,
    "solution": false
   },
   "outputs": [],
   "source": [
    "# Your code here"
   ]
  },
  {
   "cell_type": "markdown",
   "id": "9714077d-9fed-4abd-abbe-e01e836d2fb4",
   "metadata": {
    "index": 5,
    "solution": false
   },
   "source": [
    "**Each row in this dataset represents a patient with diabetes.** \n",
    "\n",
    "For this assignment, the variables of focus will be:\n",
    "* age\n",
    "* sex\n",
    "* bmi\n",
    "* bp\n",
    "* target\n",
    "\n",
    "<details>\n",
    "    <summary>\n",
    "        <i>Click here to view the documentation for the dataset\n",
    "        </i>\n",
    "    </summary>\n",
    "    <h1>Diabetes dataset</h1>\n",
    "    <p>\n",
    "\n",
    "\n",
    "Ten baseline variables, age, sex, body mass index, average blood\n",
    "pressure, and six blood serum measurements were obtained for each of n =\n",
    "442 diabetes patients, as well as the response of interest, a\n",
    "quantitative measure of disease progression one year after baseline.\n",
    "\n",
    "**Data Set Characteristics:**\n",
    "\n",
    "  :Number of Instances: 442\n",
    "\n",
    "  :Number of Attributes: First 10 columns are numeric predictive values\n",
    "\n",
    "  :Target: Column 11 is a quantitative measure of disease progression one year after baseline\n",
    "\n",
    "  :Attribute Information:\n",
    "      - age     age in years\n",
    "      - sex\n",
    "      - bmi     body mass index\n",
    "      - bp      average blood pressure\n",
    "      - s1      tc, total serum cholesterol\n",
    "      - s2      ldl, low-density lipoproteins\n",
    "      - s3      hdl, high-density lipoproteins\n",
    "      - s4      tch, total cholesterol / HDL\n",
    "      - s5      ltg, possibly log of serum triglycerides level\n",
    "      - s6      glu, blood sugar level\n",
    "\n",
    "Note: Each of these 10 feature variables have been mean centered and scaled by the standard deviation times `n_samples` (i.e. the sum of squares of each column totals 1).\n",
    "\n",
    "Source URL:\n",
    "https://www4.stat.ncsu.edu/~boos/var.select/diabetes.html\n",
    "\n",
    "For more information see:\n",
    "Bradley Efron, Trevor Hastie, Iain Johnstone and Robert Tibshirani (2004) \"Least Angle Regression,\" Annals of Statistics (with discussion), 407-499.\n",
    "(https://web.stanford.edu/~hastie/Papers/LARS/LeastAngle_2002.pdf)\n",
    "    \n",
    "  </p>\n",
    "</details>"
   ]
  },
  {
   "cell_type": "code",
   "execution_count": null,
   "id": "0727dcbd-5059-43b3-ae4d-048c0bf9e3fd",
   "metadata": {
    "index": 6,
    "solution": false
   },
   "outputs": [],
   "source": [
    "df = df[['target', 'age', 'sex', 'bmi', 'bp']]\n",
    "df.head(2)"
   ]
  },
  {
   "cell_type": "code",
   "execution_count": null,
   "id": "30884287-9058-4649-8157-326053d5c6d4",
   "metadata": {
    "index": 8,
    "solution": false
   },
   "outputs": [],
   "source": [
    "# Run this cell unchanged\n",
    "helpers.independent.display()"
   ]
  },
  {
   "cell_type": "markdown",
   "id": "680ba641-584e-4f95-9dd6-a9f37a2993f6",
   "metadata": {
    "index": 10,
    "solution": false
   },
   "source": [
    "**For our first model, let's figure out which column is most correlated with the target.**\n",
    "\n",
    "In the cell below,\n",
    "\n",
    "* Identify the most correlated feature with the target column.\n",
    "* Assign the name of the column to the variable `most_correlated`."
   ]
  },
  {
   "cell_type": "code",
   "execution_count": null,
   "id": "e2a78c20-05e1-4374-8d2d-95cc9412ea42",
   "metadata": {
    "index": 11,
    "solution": false
   },
   "outputs": [],
   "source": [
    "# Your code here"
   ]
  },
  {
   "cell_type": "code",
   "execution_count": null,
   "id": "ef8d31f8",
   "metadata": {
    "index": 13,
    "solution": false
   },
   "outputs": [],
   "source": [
    "# Run this cell unchanged!\n",
    "helpers.correlation.display()"
   ]
  },
  {
   "cell_type": "code",
   "execution_count": null,
   "id": "2988bb3d-87d2-4352-b72b-372c6344a539",
   "metadata": {
    "index": 15,
    "solution": false
   },
   "outputs": [],
   "source": [
    "# Run this cell unchanged!\n",
    "helpers.correlation_strong.display()"
   ]
  },
  {
   "cell_type": "markdown",
   "id": "92a5281e",
   "metadata": {
    "index": 17,
    "solution": false
   },
   "source": [
    "Let's create a model using the most correlated feature as the only predictor.\n",
    "\n",
    "## There are two main ways of creating a linear regression model when using `statsmodels`. \n",
    "### 1. The pythonic way\n",
    "   - For this approach you will typically see statsmodels imported with the line `import statsmodels.api as sm`\n",
    "   - Using this approach, you create the model by passing the actual data objects into the model like so..\n",
    "        \n",
    "        --------------\n",
    "        ```python\n",
    "        model = sm.OLS(df.target, df.bmi)\n",
    "        model_results = model.fit()\n",
    "        ```\n",
    "        --------------\n",
    "       \n",
    "       \n",
    "   - This approach can be handy when you have a lot a features and do not wish to type the name of each column because you can pass in an entire dataframe of predictors.\n",
    "   - One small annoyance with this approach is that the model does not use an intercept by default so you typically have to add the intercept manually\n",
    "    \n",
    "    \n",
    "    --------------\n",
    "    ```python\n",
    "    model = sm.OLS(df.target, df[['bmi']].assign(intercept=1))\n",
    "    model_results = model.fit()\n",
    "    ```\n",
    "    \n",
    "    ----------------\n",
    "    \n",
    "### 2. The `R` formula way\n",
    "   - For this approach you will typically see statsmodels imported with the line `import statsmodels.formula.api as smf`\n",
    "   - Using this approach, you write your linear equation as a string with the following format:\n",
    "    \n",
    "```python\n",
    "'{dependent_variable} ~ {independent_variable_1} + ... {indepdendent_variable_n}'\n",
    "```\n",
    "        \n",
    "   - In this case, with a dependent variable of `target` and a single independent variable of `bmi`, our formula looks like this:\n",
    "   ```python\n",
    "    'target ~ bmi'\n",
    "    ```\n",
    "   - And the full modeling code looks like this:\n",
    "   \n",
    "   --------\n",
    "   \n",
    "```python\n",
    "formula = 'target ~ bmi'\n",
    "model = smf.ols(formula, data=df)\n",
    "model_results = model.fit()\n",
    "```\n",
    "    \n",
    "   --------\n",
    "    \n",
    "   - Using this approach, the intercept is added by default\n",
    "   - One downside of this approach is that writing the formula can be a little cumbersome when you have a lot of features\n",
    "   \n",
    "   \n",
    "## tl;dr There are multiple ways of creating a model, but either option works perfectly fine. \n",
    "\n",
    "In this notebook, we will focus on using the `R` formula method for the following reasons:\n",
    "1. This bootcamp focuses primarily on  *Ordinary Least Squares Linear Regression*, but there are some more advanced versions of linear regression in statsmodels that are only supported by the formula approach. Because of this, familiarity with the formula technique is highly encouraged.\n",
    "2. The formula approach adds an intercept term by default which is extremely convenient!"
   ]
  },
  {
   "cell_type": "markdown",
   "id": "7e0800bb",
   "metadata": {
    "index": 18,
    "solution": false
   },
   "source": [
    "**In the cell below, write the formula for our first linear regression model and assign the string to a variable called `formula1`.**"
   ]
  },
  {
   "cell_type": "code",
   "execution_count": null,
   "id": "582aae47",
   "metadata": {
    "index": 19,
    "solution": false
   },
   "outputs": [],
   "source": [
    "# Your code here"
   ]
  },
  {
   "cell_type": "markdown",
   "id": "43b66519",
   "metadata": {
    "index": 21,
    "solution": false
   },
   "source": [
    "Let's fit the model and interpret the results!"
   ]
  },
  {
   "cell_type": "code",
   "execution_count": null,
   "id": "1e563e08",
   "metadata": {
    "index": 22,
    "solution": false
   },
   "outputs": [],
   "source": [
    "# Your code here"
   ]
  },
  {
   "cell_type": "markdown",
   "id": "5dbab5d0",
   "metadata": {
    "index": 24,
    "solution": false
   },
   "source": [
    "**Using the table above, we have all the information we need to write a linear equation.**\n",
    "\n",
    "Intercept = 152.1335\n",
    "\n",
    "Slope = 949.4353\n",
    "\n",
    "Linear Equation:  $target = 152.1335 + 949.4353bmi$"
   ]
  },
  {
   "cell_type": "markdown",
   "id": "8340a3eb",
   "metadata": {
    "index": 25,
    "solution": false
   },
   "source": [
    "## Interpret the numbers"
   ]
  },
  {
   "cell_type": "markdown",
   "id": "04dcc364",
   "metadata": {
    "index": 26,
    "solution": false
   },
   "source": [
    "#### Interpreting the intercept"
   ]
  },
  {
   "cell_type": "code",
   "execution_count": null,
   "id": "b2fae1be",
   "metadata": {
    "index": 27,
    "solution": false
   },
   "outputs": [],
   "source": [
    "# Run this cell unchanged\n",
    "helpers.intercept.display()"
   ]
  },
  {
   "cell_type": "markdown",
   "id": "8d9ba03c",
   "metadata": {
    "index": 29,
    "solution": false
   },
   "source": [
    "#### Interpret the slope"
   ]
  },
  {
   "cell_type": "code",
   "execution_count": null,
   "id": "8a6be6de",
   "metadata": {
    "index": 30,
    "solution": false
   },
   "outputs": [],
   "source": [
    "# Run this cell unchanged\n",
    "helpers.slope.display()"
   ]
  },
  {
   "cell_type": "markdown",
   "id": "21c3b9f3-76ba-4204-bf00-731e08182422",
   "metadata": {
    "index": 32,
    "solution": false
   },
   "source": [
    "## Evaluate the model\n",
    "\n",
    "In the cell below,\n",
    "1. Import `r2_score` and `mean_squared_error` from the sklearn metrics module.\n",
    "2. Calculate the r2 and RMSE for the model."
   ]
  },
  {
   "cell_type": "code",
   "execution_count": null,
   "id": "5f742648-3c9f-4430-84f9-2dcdcf15fadf",
   "metadata": {
    "index": 33,
    "solution": false
   },
   "outputs": [],
   "source": [
    "# Import r2_score and mean_squared_error\n",
    "# Your code here\n",
    "\n",
    "# Calculate r2\n",
    "# Replace None with your code\n",
    "model1_r2 = None\n",
    "\n",
    "# Calculate RMSE\n",
    "# Replace None with your code\n",
    "model1_rmse = None\n",
    "\n",
    "# Print Results\n",
    "print('Model R^2: ', model1_r2)\n",
    "print('Model RMSE:', model1_rmse)"
   ]
  },
  {
   "cell_type": "markdown",
   "id": "ef43be50-2e67-4966-9dbb-96fa4099e141",
   "metadata": {
    "index": 35,
    "solution": false
   },
   "source": [
    "### Interpret the r2 and RMSE metrics"
   ]
  },
  {
   "cell_type": "markdown",
   "id": "aed2e2cb-0a13-4a28-9752-35021696b5d2",
   "metadata": {
    "answer": "==SOLUTION==\n\n\nThe regression model `target ~ bmi` explains about 34% of the variance in the dependent variable. The predictions generated by this model have an average error 62.",
    "index": 36,
    "solution": true
   },
   "source": [
    "YOUR ANSWER HERE"
   ]
  },
  {
   "cell_type": "markdown",
   "id": "8370a884-f462-46b9-a429-84f1fa112fe5",
   "metadata": {
    "index": 37,
    "solution": false
   },
   "source": [
    "### Check assumptions of Linear Regression"
   ]
  },
  {
   "cell_type": "markdown",
   "id": "ac6bdf58-8839-4100-a8f9-b39fb27c4105",
   "metadata": {
    "index": 38,
    "solution": false
   },
   "source": [
    "**Investigating Linearity**\n",
    "\n",
    "First, let's check whether the linearity assumption holds."
   ]
  },
  {
   "cell_type": "code",
   "execution_count": null,
   "id": "49f69312-6c2c-4844-a117-0ba7e42b33c3",
   "metadata": {
    "index": 39,
    "solution": false
   },
   "outputs": [],
   "source": [
    "# Import matplotlib using the standard alias\n",
    "# Your code here\n",
    "\n",
    "# Generate model predictions\n",
    "# Replace None with your code\n",
    "preds = None\n",
    "\n",
    "# Create a matplotlib subplot\n",
    "# Replace None with your code\n",
    "fig, ax = None, None\n",
    "\n",
    "# Using numpy.arange create a line that\n",
    "# begins with the minimum target value\n",
    "# and ends with the maximum target value\n",
    "perfect_line = None\n",
    "\n",
    "# Plot the `perfect_line`\n",
    "# Set the label to the string \"Perfect Fit\"\n",
    "# Your code here\n",
    "\n",
    "# Plot a scatter plot setting the xaxis to \n",
    "# the true target values and the yaxis to\n",
    "# the predicted valued\n",
    "# Your code here\n",
    "\n",
    "# Set the xlabel to the string \"Actual Blood Pressure\"\n",
    "# Your code here\n",
    "\n",
    "# Set the ylabel to the string \"Predicted Blood Pressure\"\n",
    "# Your code here\n",
    "\n",
    "# Activate the legend for the matplotlib axis\n",
    "# Your code here"
   ]
  },
  {
   "cell_type": "markdown",
   "id": "c1137767-e144-4508-a5be-be4157b8b895",
   "metadata": {
    "index": 41,
    "solution": false
   },
   "source": [
    "Are you violating the linearity assumption?"
   ]
  },
  {
   "cell_type": "markdown",
   "id": "2c0a9309-6a21-4269-890c-f752ffe3401f",
   "metadata": {
    "answer": "==SOLUTION==\n\nYes. The predictions generated by this model are deviating from a linear relationship. At low blood pressure levels, the model appears to be mostly overpredicting, and is dramatically underpredicting beyond a blood pressure of ~125.",
    "index": 42,
    "solution": true
   },
   "source": [
    "YOUR ANSWER HERE"
   ]
  },
  {
   "cell_type": "markdown",
   "id": "b9ebb52a-5e31-4ddc-9724-3f20a4295e34",
   "metadata": {
    "index": 43,
    "solution": false
   },
   "source": [
    "**Investigating Normality**"
   ]
  },
  {
   "cell_type": "code",
   "execution_count": null,
   "id": "398d3110-72a3-47bf-a901-3dcde7e1e192",
   "metadata": {
    "index": 44,
    "solution": false
   },
   "outputs": [],
   "source": [
    "from scipy.stats import norm\n",
    "\n",
    "fig, axes = plt.subplots(1,2, figsize=(20,5))\n",
    "residuals = preds-df.target\n",
    "sm.graphics.qqplot(residuals, dist=norm, line='45', fit=True, ax=axes[0])\n",
    "axes[1].hist(residuals);"
   ]
  },
  {
   "cell_type": "markdown",
   "id": "19713b21-5578-4f62-828b-9074c44825e7",
   "metadata": {
    "index": 46,
    "solution": false
   },
   "source": [
    "**Investigating Equal Variance**"
   ]
  },
  {
   "cell_type": "code",
   "execution_count": null,
   "id": "8abd1cd2-4396-4886-8e31-f0e52f743906",
   "metadata": {
    "index": 47,
    "solution": false
   },
   "outputs": [],
   "source": [
    "fig, ax = plt.subplots(figsize=(15,6))\n",
    "\n",
    "ax.scatter(preds, residuals, alpha=0.5)\n",
    "ax.plot(preds, [0 for i in range(len(df))])\n",
    "ax.set_xlabel(\"Predicted Value\")\n",
    "ax.set_ylabel(\"Predicted Value - Actual\");"
   ]
  },
  {
   "cell_type": "markdown",
   "id": "9f937df2-4d30-4eae-8e5e-68babf05c293",
   "metadata": {
    "index": 49,
    "solution": false
   },
   "source": [
    "Are you violating the equal variance assumption?"
   ]
  },
  {
   "cell_type": "markdown",
   "id": "a2027a44-de20-4cff-868c-da2c14ca9b9f",
   "metadata": {
    "answer": "==SOLUTION==\n\nThis doesn't look to bad, but there is some evidence of heteroscedasticty. As we saw from this linearity plot, our model is mostly overestimating or underestimating, which is reflected in this plot. The data appears to be a bit more densly distributed at lower values and it becoming more widley distributes as the predicted values increase. The overall variance, however seems to be largly consistent. As the predicted values increase, we do not see a widening of distribution but moreso a change in the mean of the residuals (This again, is better demonstrated by our violation of linearity)",
    "index": 50,
    "solution": true
   },
   "source": [
    "YOUR ANSWER HERE"
   ]
  },
  {
   "cell_type": "markdown",
   "id": "0fda3999-5b77-45d9-9b2f-7711ac44458e",
   "metadata": {
    "index": 51,
    "solution": false
   },
   "source": [
    "### Multiple Linear Regression\n",
    "\n",
    "In the cell below, define fit a linear regression using `bmi` and `bp` as independent variables."
   ]
  },
  {
   "cell_type": "code",
   "execution_count": null,
   "id": "fe71b5bb-8cc0-4fd1-8a53-13bf8804f320",
   "metadata": {
    "index": 52,
    "solution": false
   },
   "outputs": [],
   "source": [
    "formula2 = None\n",
    "\n",
    "model2 = None\n",
    "model2.summary()"
   ]
  },
  {
   "cell_type": "markdown",
   "id": "044b2e64-8679-435d-9cba-95391b5461f1",
   "metadata": {
    "index": 54,
    "solution": false
   },
   "source": [
    "### Define a function to calculate the `r2` and `mean squared error`"
   ]
  },
  {
   "cell_type": "code",
   "execution_count": null,
   "id": "8de3310a-e50b-4ad7-b0d8-d9e3a725c8cc",
   "metadata": {
    "index": 55,
    "solution": false
   },
   "outputs": [],
   "source": [
    "def metrics(model, target):\n",
    "    # Generate model predictions\n",
    "    None\n",
    "    # Calcuate r2\n",
    "    None\n",
    "    # Calculate rmse\n",
    "    None\n",
    "    # Return r2 and rmse\n",
    "    None"
   ]
  },
  {
   "cell_type": "code",
   "execution_count": null,
   "id": "4ccaf65b-613e-44ac-bc59-73c04a176956",
   "metadata": {
    "index": 57,
    "solution": false
   },
   "outputs": [],
   "source": [
    "model2_r2, model2_rmse = None, None\n",
    "\n",
    "# Print Results\n",
    "print('Model1 R^2:', model1_r2)\n",
    "print('Model2 RMSE:', model2_rmse)\n",
    "print('-------------------------------')\n",
    "\n",
    "print('Model R^2: ', model2_r2)\n",
    "print('Model RMSE:', model2_rmse)"
   ]
  },
  {
   "cell_type": "markdown",
   "id": "2016eda2-6d93-403e-b794-855567b1c7cc",
   "metadata": {
    "index": 59,
    "solution": false
   },
   "source": [
    "### Define a function to plot linearity"
   ]
  },
  {
   "cell_type": "code",
   "execution_count": null,
   "id": "6d98b6bf-3c1a-4d06-8c6b-2abfc00fe3c2",
   "metadata": {
    "index": 60,
    "solution": false
   },
   "outputs": [],
   "source": [
    "def linearity(model, target):\n",
    "    # Generate model predictions\n",
    "    None\n",
    "    # Create a matplotlib subplot object\n",
    "    None\n",
    "    # Generate a line beginning with target min and\n",
    "    # ending with target max\n",
    "    None\n",
    "    # Plot the perfect line\n",
    "    None\n",
    "    # Plot a scatter plot with the target as the xaxis and preds as the yaxis\n",
    "    None\n",
    "    # Set the x and y axis labels\n",
    "    None\n",
    "    # Activate the axis legend\n",
    "    None"
   ]
  },
  {
   "cell_type": "code",
   "execution_count": null,
   "id": "becaa189-1001-4047-8e8f-56a00be31c68",
   "metadata": {
    "index": 62,
    "solution": false
   },
   "outputs": [],
   "source": [
    "linearity(model2, df.target)"
   ]
  },
  {
   "cell_type": "markdown",
   "id": "df85ab5e-1921-4343-b6f5-03118dcf0fc9",
   "metadata": {
    "index": 64,
    "solution": false
   },
   "source": [
    "### Define a function to plot residual normality."
   ]
  },
  {
   "cell_type": "code",
   "execution_count": null,
   "id": "d446d9b9-52bf-4d3b-bcc0-95070ab9d177",
   "metadata": {
    "index": 65,
    "solution": false
   },
   "outputs": [],
   "source": [
    "def normality(model, target):\n",
    "    # Initialize a matplotlib subplot\n",
    "    None\n",
    "    # Generate model predictions\n",
    "    None\n",
    "    # Calculate error\n",
    "    None\n",
    "    # Plot the residuals as a qqplot\n",
    "    None\n",
    "    # Plot a histogram\n",
    "    None"
   ]
  },
  {
   "cell_type": "code",
   "execution_count": null,
   "id": "8584ea37-4582-464f-911e-d167a8cdf151",
   "metadata": {
    "index": 67,
    "solution": false
   },
   "outputs": [],
   "source": [
    "normality(model2, df.target)"
   ]
  },
  {
   "cell_type": "markdown",
   "id": "3ab50dce-385c-49f1-9725-085378889df0",
   "metadata": {
    "index": 69,
    "solution": false
   },
   "source": [
    "### Define a function to plot equal_variance"
   ]
  },
  {
   "cell_type": "code",
   "execution_count": null,
   "id": "a5c3ea2f-686e-464a-8e56-ba62cb507456",
   "metadata": {
    "index": 70,
    "solution": false
   },
   "outputs": [],
   "source": [
    "def equal_var(model, target):\n",
    "    # Generate model predictions\n",
    "    None\n",
    "    # Calculate error\n",
    "    None\n",
    "    # Initialize a matplotlib subplot\n",
    "    None\n",
    "    # Plot scatter plot of predictions vs error\n",
    "    None\n",
    "    # Plot a horizontal line set at 0\n",
    "    None\n",
    "    # Set the x and y axis labels\n",
    "    None\n",
    "    None"
   ]
  },
  {
   "cell_type": "code",
   "execution_count": null,
   "id": "7a9ad3b9-2fce-4f71-af0a-ab82b64d1ba0",
   "metadata": {
    "index": 72,
    "solution": false
   },
   "outputs": [],
   "source": [
    "equal_var(model2, df.target)"
   ]
  },
  {
   "cell_type": "markdown",
   "id": "c9a88549-941b-4ffb-bad9-16229e6397f1",
   "metadata": {
    "index": 74,
    "solution": false
   },
   "source": [
    "### Multicolinearity "
   ]
  },
  {
   "cell_type": "code",
   "execution_count": null,
   "id": "e51f6781-821b-4516-9008-f915821b6960",
   "metadata": {
    "index": 75,
    "solution": false
   },
   "outputs": [],
   "source": [
    "from statsmodels.stats.outliers_influence import variance_inflation_factor\n",
    "\n",
    "rows = df[[\"bmi\", \"bp\"]].values\n",
    "\n",
    "vif_df = pd.DataFrame()\n",
    "vif_df[\"VIF\"] = [variance_inflation_factor(rows, i) for i in range(2)]\n",
    "vif_df[\"feature\"] = [\"bmi\", \"bp\"]\n",
    "\n",
    "vif_df"
   ]
  },
  {
   "cell_type": "markdown",
   "id": "52196bbd-4718-45c7-a0ee-8b4aaf2b206e",
   "metadata": {
    "index": 77,
    "solution": false
   },
   "source": [
    "### Multi-colinearity Function"
   ]
  },
  {
   "cell_type": "code",
   "execution_count": null,
   "id": "d941c458-2e3d-4000-98fa-1798990e9c94",
   "metadata": {
    "index": 78,
    "solution": false
   },
   "outputs": [],
   "source": [
    "def vif(features_df):\n",
    "    rows = features_df.values\n",
    "    vif_df = pd.DataFrame()\n",
    "    vif_df[\"VIF\"] = [variance_inflation_factor(rows, i) for i in range(features_df.shape[1])]\n",
    "    vif_df[\"feature\"] = features_df.columns\n",
    "    return vif_df"
   ]
  },
  {
   "cell_type": "code",
   "execution_count": null,
   "id": "38ba8672-2ab0-4364-975e-418a2212b895",
   "metadata": {
    "index": 80,
    "solution": false
   },
   "outputs": [],
   "source": [
    "vif(df[['bmi', 'bp']])"
   ]
  },
  {
   "cell_type": "code",
   "execution_count": null,
   "id": "568fe95c-3384-4963-a787-2b75524a9699",
   "metadata": {
    "index": 82,
    "solution": false
   },
   "outputs": [],
   "source": []
  }
 ],
 "metadata": {
  "kernelspec": {
   "display_name": "Python 3 (ipykernel)",
   "language": "python",
   "name": "python3"
  },
  "language_info": {
   "codemirror_mode": {
    "name": "ipython",
    "version": 3
   },
   "file_extension": ".py",
   "mimetype": "text/x-python",
   "name": "python",
   "nbconvert_exporter": "python",
   "pygments_lexer": "ipython3",
   "version": "3.9.5"
  }
 },
 "nbformat": 4,
 "nbformat_minor": 5
}
