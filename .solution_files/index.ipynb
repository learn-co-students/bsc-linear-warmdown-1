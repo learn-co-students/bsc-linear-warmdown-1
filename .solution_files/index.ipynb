{
 "cells": [
  {
   "cell_type": "code",
   "execution_count": 36,
   "id": "bcb18960-d8df-479a-9f07-bb8f421195bd",
   "metadata": {
    "index": 1,
    "solution": true
   },
   "outputs": [],
   "source": [
    "# Primary libraries\n",
    "import pandas as pd\n",
    "import numpy as np\n",
    "import statsmodels.api as sm\n",
    "import statsmodels.formula.api as smf\n",
    "\n",
    "# Custom functions\n",
    "from src import helpers"
   ]
  },
  {
   "cell_type": "markdown",
   "id": "8dfea4ad",
   "metadata": {
    "index": 2,
    "solution": false
   },
   "source": [
    "# Linear Regression Practice\n",
    "\n",
    "A dataset called `diabetes.csv` is stored in the `data` folder for this repository. \n",
    "\n",
    "In the cell below, read in the dataset using pandas, and output the head of the dataframe. Assign the dataframe to the variable `df`."
   ]
  },
  {
   "cell_type": "code",
   "execution_count": 38,
   "id": "60e7a4c7-a0b9-407b-8c6e-b376a4786aa5",
   "metadata": {
    "index": 4,
    "solution": true
   },
   "outputs": [],
   "source": [
    "df = pd.read_csv('data/diabetes.csv')"
   ]
  },
  {
   "cell_type": "markdown",
   "id": "9714077d-9fed-4abd-abbe-e01e836d2fb4",
   "metadata": {
    "index": 5,
    "solution": false
   },
   "source": [
    "**Each row in this dataset represents a patient with diabetes.** \n",
    "\n",
    "For this assignment, the variables of focus will be:\n",
    "* age\n",
    "* sex\n",
    "* bmi\n",
    "* bp\n",
    "* target\n",
    "\n",
    "<details>\n",
    "    <summary>\n",
    "        <i>Click here to view the documentation for the dataset\n",
    "        </i>\n",
    "    </summary>\n",
    "    <h1>Diabetes dataset</h1>\n",
    "    <p>\n",
    "\n",
    "\n",
    "Ten baseline variables, age, sex, body mass index, average blood\n",
    "pressure, and six blood serum measurements were obtained for each of n =\n",
    "442 diabetes patients, as well as the response of interest, a\n",
    "quantitative measure of disease progression one year after baseline.\n",
    "\n",
    "**Data Set Characteristics:**\n",
    "\n",
    "  :Number of Instances: 442\n",
    "\n",
    "  :Number of Attributes: First 10 columns are numeric predictive values\n",
    "\n",
    "  :Target: Column 11 is a quantitative measure of disease progression one year after baseline\n",
    "\n",
    "  :Attribute Information:\n",
    "      - age     age in years\n",
    "      - sex\n",
    "      - bmi     body mass index\n",
    "      - bp      average blood pressure\n",
    "      - s1      tc, total serum cholesterol\n",
    "      - s2      ldl, low-density lipoproteins\n",
    "      - s3      hdl, high-density lipoproteins\n",
    "      - s4      tch, total cholesterol / HDL\n",
    "      - s5      ltg, possibly log of serum triglycerides level\n",
    "      - s6      glu, blood sugar level\n",
    "\n",
    "Note: Each of these 10 feature variables have been mean centered and scaled by the standard deviation times `n_samples` (i.e. the sum of squares of each column totals 1).\n",
    "\n",
    "Source URL:\n",
    "https://www4.stat.ncsu.edu/~boos/var.select/diabetes.html\n",
    "\n",
    "For more information see:\n",
    "Bradley Efron, Trevor Hastie, Iain Johnstone and Robert Tibshirani (2004) \"Least Angle Regression,\" Annals of Statistics (with discussion), 407-499.\n",
    "(https://web.stanford.edu/~hastie/Papers/LARS/LeastAngle_2002.pdf)\n",
    "    \n",
    "  </p>\n",
    "</details>"
   ]
  },
  {
   "cell_type": "code",
   "execution_count": 40,
   "id": "163d39c3-b8d4-4826-9f74-a8e94451f788",
   "metadata": {
    "index": 7,
    "solution": true
   },
   "outputs": [
    {
     "data": {
      "text/html": [
       "<div>\n",
       "<style scoped>\n",
       "    .dataframe tbody tr th:only-of-type {\n",
       "        vertical-align: middle;\n",
       "    }\n",
       "\n",
       "    .dataframe tbody tr th {\n",
       "        vertical-align: top;\n",
       "    }\n",
       "\n",
       "    .dataframe thead th {\n",
       "        text-align: right;\n",
       "    }\n",
       "</style>\n",
       "<table border=\"1\" class=\"dataframe\">\n",
       "  <thead>\n",
       "    <tr style=\"text-align: right;\">\n",
       "      <th></th>\n",
       "      <th>target</th>\n",
       "      <th>age</th>\n",
       "      <th>sex</th>\n",
       "      <th>bmi</th>\n",
       "      <th>bp</th>\n",
       "    </tr>\n",
       "  </thead>\n",
       "  <tbody>\n",
       "    <tr>\n",
       "      <th>0</th>\n",
       "      <td>151.0</td>\n",
       "      <td>0.038076</td>\n",
       "      <td>1</td>\n",
       "      <td>0.061696</td>\n",
       "      <td>0.021872</td>\n",
       "    </tr>\n",
       "    <tr>\n",
       "      <th>1</th>\n",
       "      <td>75.0</td>\n",
       "      <td>-0.001882</td>\n",
       "      <td>0</td>\n",
       "      <td>-0.051474</td>\n",
       "      <td>-0.026328</td>\n",
       "    </tr>\n",
       "  </tbody>\n",
       "</table>\n",
       "</div>"
      ],
      "text/plain": [
       "   target       age  sex       bmi        bp\n",
       "0   151.0  0.038076    1  0.061696  0.021872\n",
       "1    75.0 -0.001882    0 -0.051474 -0.026328"
      ]
     },
     "execution_count": 40,
     "metadata": {},
     "output_type": "execute_result"
    }
   ],
   "source": [
    "df = df[['target', 'age', 'sex', 'bmi', 'bp']]\n",
    "df.head(2)"
   ]
  },
  {
   "cell_type": "code",
   "execution_count": 42,
   "id": "86441454-2e67-4f11-9569-d729e286923d",
   "metadata": {
    "index": 9,
    "solution": true
   },
   "outputs": [
    {
     "data": {
      "application/vnd.jupyter.widget-view+json": {
       "model_id": "22b524ca4db549d8bcff05b30d84605f",
       "version_major": 2,
       "version_minor": 0
      },
      "text/plain": [
       "VBox(children=(Output(outputs=({'output_type': 'display_data', 'data': {'text/plain': '<IPython.core.display.M…"
      ]
     },
     "metadata": {},
     "output_type": "display_data"
    }
   ],
   "source": [
    "# Run this cell unchanged\n",
    "helpers.independent.display()"
   ]
  },
  {
   "cell_type": "markdown",
   "id": "680ba641-584e-4f95-9dd6-a9f37a2993f6",
   "metadata": {
    "index": 10,
    "solution": false
   },
   "source": [
    "**For our first model, let's figure out which column is most correlated with the target.**\n",
    "\n",
    "In the cell below,\n",
    "\n",
    "* Identify the most correlated feature with the target column.\n",
    "* Assign the name of the column to the variable `most_correlated`."
   ]
  },
  {
   "cell_type": "code",
   "execution_count": 44,
   "id": "3cacccf1",
   "metadata": {
    "index": 12,
    "solution": true
   },
   "outputs": [],
   "source": [
    "most_correlated = df.corr().sort_values('target').iloc[-2].name"
   ]
  },
  {
   "cell_type": "code",
   "execution_count": 46,
   "id": "f75c4557-bc2c-41a9-982a-30a26bbabe80",
   "metadata": {
    "index": 14,
    "solution": true
   },
   "outputs": [
    {
     "data": {
      "application/vnd.jupyter.widget-view+json": {
       "model_id": "9d60b77587ac4ec18afc5bf92380ccaa",
       "version_major": 2,
       "version_minor": 0
      },
      "text/plain": [
       "VBox(children=(Output(outputs=({'output_type': 'display_data', 'data': {'text/plain': '<IPython.core.display.M…"
      ]
     },
     "metadata": {},
     "output_type": "display_data"
    }
   ],
   "source": [
    "# Run this cell unchanged!\n",
    "helpers.correlation.display()"
   ]
  },
  {
   "cell_type": "code",
   "execution_count": 50,
   "id": "027d1714",
   "metadata": {
    "index": 16,
    "solution": true
   },
   "outputs": [
    {
     "data": {
      "application/vnd.jupyter.widget-view+json": {
       "model_id": "8a16ab266786484c8c0e074b7040b56f",
       "version_major": 2,
       "version_minor": 0
      },
      "text/plain": [
       "VBox(children=(Output(outputs=({'output_type': 'display_data', 'data': {'text/plain': '<IPython.core.display.M…"
      ]
     },
     "metadata": {},
     "output_type": "display_data"
    }
   ],
   "source": [
    "# Run this cell unchanged!\n",
    "helpers.correlation_strong.display()"
   ]
  },
  {
   "cell_type": "markdown",
   "id": "92a5281e",
   "metadata": {
    "index": 17,
    "solution": false
   },
   "source": [
    "Let's create a model using the most correlated feature as the only predictor.\n",
    "\n",
    "## There are two main ways of creating a linear regression model when using `statsmodels`. \n",
    "### 1. The pythonic way\n",
    "   - For this approach you will typically see statsmodels imported with the line `import statsmodels.api as sm`\n",
    "   - Using this approach, you create the model by passing the actual data objects into the model like so..\n",
    "        \n",
    "        --------------\n",
    "        ```python\n",
    "        model = sm.OLS(df.target, df.bmi)\n",
    "        model_results = model.fit()\n",
    "        ```\n",
    "        --------------\n",
    "       \n",
    "       \n",
    "   - This approach can be handy when you have a lot a features and do not wish to type the name of each column because you can pass in an entire dataframe of predictors.\n",
    "   - One small annoyance with this approach is that the model does not use an intercept by default so you typically have to add the intercept manually\n",
    "    \n",
    "    \n",
    "    --------------\n",
    "    ```python\n",
    "    model = sm.OLS(df.target, df[['bmi']].assign(intercept=1))\n",
    "    model_results = model.fit()\n",
    "    ```\n",
    "    \n",
    "    ----------------\n",
    "    \n",
    "### 2. The `R` formula way\n",
    "   - For this approach you will typically see statsmodels imported with the line `import statsmodels.formula.api as smf`\n",
    "   - Using this approach, you write your linear equation as a string with the following format:\n",
    "    \n",
    "```python\n",
    "'{dependent_variable} ~ {independent_variable_1} + ... {indepdendent_variable_n}'\n",
    "```\n",
    "        \n",
    "   - In this case, with a dependent variable of `target` and a single independent variable of `bmi`, our formula looks like this:\n",
    "   ```python\n",
    "    'target ~ bmi'\n",
    "    ```\n",
    "   - And the full modeling code looks like this:\n",
    "   \n",
    "   --------\n",
    "   \n",
    "```python\n",
    "formula = 'target ~ bmi'\n",
    "model = smf.ols(formula, data=df)\n",
    "model_results = model.fit()\n",
    "```\n",
    "    \n",
    "   --------\n",
    "    \n",
    "   - Using this approach, the intercept is added by default\n",
    "   - One downside of this approach is that writing the formula can be a little cumbersome when you have a lot of features\n",
    "   \n",
    "   \n",
    "## tl;dr There are multiple ways of creating a model, but either option works perfectly fine. \n",
    "\n",
    "In this notebook, we will focus on using the `R` formula method for the following reasons:\n",
    "1. This bootcamp focuses primarily on  *Ordinary Least Squares Linear Regression*, but there are some more advanced versions of linear regression in statsmodels that are only supported by the formula approach. Because of this, familiarity with the formula technique is highly encouraged.\n",
    "2. The formula approach adds an intercept term by default which is extremely convenient!"
   ]
  },
  {
   "cell_type": "markdown",
   "id": "7e0800bb",
   "metadata": {
    "index": 18,
    "solution": false
   },
   "source": [
    "**In the cell below, write the formula for our first linear regression model and assign the string to a variable called `formula1`.**"
   ]
  },
  {
   "cell_type": "code",
   "execution_count": 185,
   "id": "c84f3d20",
   "metadata": {
    "index": 20,
    "solution": true
   },
   "outputs": [],
   "source": [
    "formula1 = 'target ~ bmi'"
   ]
  },
  {
   "cell_type": "markdown",
   "id": "43b66519",
   "metadata": {
    "index": 21,
    "solution": false
   },
   "source": [
    "Let's fit the model and interpret the results!"
   ]
  },
  {
   "cell_type": "code",
   "execution_count": 187,
   "id": "a2e4f911-6e5e-426f-b7b7-6eb7949f0978",
   "metadata": {
    "index": 23,
    "solution": true
   },
   "outputs": [
    {
     "data": {
      "text/html": [
       "<table class=\"simpletable\">\n",
       "<tr>\n",
       "      <td></td>         <th>coef</th>     <th>std err</th>      <th>t</th>      <th>P>|t|</th>  <th>[0.025</th>    <th>0.975]</th>  \n",
       "</tr>\n",
       "<tr>\n",
       "  <th>Intercept</th> <td>  152.1335</td> <td>    2.974</td> <td>   51.162</td> <td> 0.000</td> <td>  146.289</td> <td>  157.978</td>\n",
       "</tr>\n",
       "<tr>\n",
       "  <th>bmi</th>       <td>  949.4353</td> <td>   62.515</td> <td>   15.187</td> <td> 0.000</td> <td>  826.570</td> <td> 1072.301</td>\n",
       "</tr>\n",
       "</table>"
      ],
      "text/plain": [
       "<class 'statsmodels.iolib.table.SimpleTable'>"
      ]
     },
     "execution_count": 187,
     "metadata": {},
     "output_type": "execute_result"
    }
   ],
   "source": [
    "model1 = smf.ols(formula1, df).fit()\n",
    "model1.summary().tables[1]"
   ]
  },
  {
   "cell_type": "markdown",
   "id": "5dbab5d0",
   "metadata": {
    "index": 24,
    "solution": false
   },
   "source": [
    "**Using the table above, we have all the information we need to write a linear equation.**\n",
    "\n",
    "Intercept = 152.1335\n",
    "\n",
    "Slope = 949.4353\n",
    "\n",
    "Linear Equation:  $target = 152.1335 + 949.4353bmi$"
   ]
  },
  {
   "cell_type": "markdown",
   "id": "8340a3eb",
   "metadata": {
    "index": 25,
    "solution": false
   },
   "source": [
    "## Interpret the numbers"
   ]
  },
  {
   "cell_type": "markdown",
   "id": "04dcc364",
   "metadata": {
    "index": 26,
    "solution": false
   },
   "source": [
    "#### Interpreting the intercept"
   ]
  },
  {
   "cell_type": "code",
   "execution_count": 64,
   "id": "ea0b5314-e842-4f04-900a-4b64533c7621",
   "metadata": {
    "index": 28,
    "solution": true
   },
   "outputs": [
    {
     "data": {
      "application/vnd.jupyter.widget-view+json": {
       "model_id": "14b14b68542b4683b8527bd7c45a8eb8",
       "version_major": 2,
       "version_minor": 0
      },
      "text/plain": [
       "VBox(children=(Output(outputs=({'output_type': 'display_data', 'data': {'text/plain': '<IPython.core.display.M…"
      ]
     },
     "metadata": {},
     "output_type": "display_data"
    }
   ],
   "source": [
    "# Run this cell unchanged\n",
    "helpers.intercept.display()"
   ]
  },
  {
   "cell_type": "markdown",
   "id": "8d9ba03c",
   "metadata": {
    "index": 29,
    "solution": false
   },
   "source": [
    "#### Interpret the slope"
   ]
  },
  {
   "cell_type": "code",
   "execution_count": 66,
   "id": "541e91fd-07e1-4a56-b532-df74cbd7b5de",
   "metadata": {
    "index": 31,
    "solution": true
   },
   "outputs": [
    {
     "data": {
      "application/vnd.jupyter.widget-view+json": {
       "model_id": "917bfcab59e74d0fb44affa539820257",
       "version_major": 2,
       "version_minor": 0
      },
      "text/plain": [
       "VBox(children=(Output(outputs=({'output_type': 'display_data', 'data': {'text/plain': '<IPython.core.display.M…"
      ]
     },
     "metadata": {},
     "output_type": "display_data"
    }
   ],
   "source": [
    "# Run this cell unchanged\n",
    "helpers.slope.display()"
   ]
  },
  {
   "cell_type": "markdown",
   "id": "21c3b9f3-76ba-4204-bf00-731e08182422",
   "metadata": {
    "index": 32,
    "solution": false
   },
   "source": [
    "## Evaluate the model\n",
    "\n",
    "In the cell below,\n",
    "1. Import `r2_score` and `mean_squared_error` from the sklearn metrics module.\n",
    "2. Calculate the r2 and RMSE for the model."
   ]
  },
  {
   "cell_type": "code",
   "execution_count": 188,
   "id": "63a626d1-6db4-4649-838d-ea7316267ad1",
   "metadata": {
    "index": 34,
    "solution": true
   },
   "outputs": [
    {
     "name": "stdout",
     "output_type": "stream",
     "text": [
      "Model R^2:  0.3439237602253803\n",
      "Model RMSE: 62.37352471570989\n"
     ]
    }
   ],
   "source": [
    "# Import r2_score and mean_squared_error\n",
    "from sklearn.metrics import r2_score, mean_squared_error\n",
    "\n",
    "# Calculate r2\n",
    "model1_r2 = r2_score(df.target, model1.predict())\n",
    "\n",
    "# Calculate RMSE\n",
    "model1_rmse = mean_squared_error(df.target, model1.predict(), squared=False)\n",
    "\n",
    "# Print Results\n",
    "print('Model R^2: ', model1_r2)\n",
    "print('Model RMSE:', model1_rmse)"
   ]
  },
  {
   "cell_type": "markdown",
   "id": "ef43be50-2e67-4966-9dbb-96fa4099e141",
   "metadata": {
    "index": 35,
    "solution": false
   },
   "source": [
    "### Interpret the r2 and RMSE metrics"
   ]
  },
  {
   "cell_type": "markdown",
   "id": "aed2e2cb-0a13-4a28-9752-35021696b5d2",
   "metadata": {
    "index": 36,
    "solution": true
   },
   "source": [
    "\n",
    "\n",
    "The regression model `target ~ bmi` explains about 34% of the variance in the dependent variable. The predictions generated by this model have an average error 62."
   ]
  },
  {
   "cell_type": "markdown",
   "id": "8370a884-f462-46b9-a429-84f1fa112fe5",
   "metadata": {
    "index": 37,
    "solution": false
   },
   "source": [
    "### Check assumptions of Linear Regression"
   ]
  },
  {
   "cell_type": "markdown",
   "id": "ac6bdf58-8839-4100-a8f9-b39fb27c4105",
   "metadata": {
    "index": 38,
    "solution": false
   },
   "source": [
    "**Investigating Linearity**\n",
    "\n",
    "First, let's check whether the linearity assumption holds."
   ]
  },
  {
   "cell_type": "markdown",
   "id": "c1137767-e144-4508-a5be-be4157b8b895",
   "metadata": {
    "index": 41,
    "solution": false
   },
   "source": [
    "Are you violating the linearity assumption?"
   ]
  },
  {
   "cell_type": "markdown",
   "id": "2c0a9309-6a21-4269-890c-f752ffe3401f",
   "metadata": {
    "index": 42,
    "solution": true
   },
   "source": [
    "\n",
    "Yes. The predictions generated by this model are deviating from a linear relationship. At low blood pressure levels, the model appears to be mostly overpredicting, and is dramatically underpredicting beyond a blood pressure of ~125."
   ]
  },
  {
   "cell_type": "markdown",
   "id": "b9ebb52a-5e31-4ddc-9724-3f20a4295e34",
   "metadata": {
    "index": 43,
    "solution": false
   },
   "source": [
    "**Investigating Normality**"
   ]
  },
  {
   "cell_type": "code",
   "execution_count": null,
   "id": "eff6948b-688c-4bb8-8286-71f089663fb0",
   "metadata": {
    "index": 45,
    "solution": true
   },
   "outputs": [],
   "source": [
    "from scipy.stats import norm\n",
    "\n",
    "fig, axes = plt.subplots(1,2, figsize=(20,5))\n",
    "residuals = preds-df.target\n",
    "sm.graphics.qqplot(residuals, dist=norm, line='45', fit=True, ax=axes[0])\n",
    "axes[1].hist(residuals);"
   ]
  },
  {
   "cell_type": "markdown",
   "id": "19713b21-5578-4f62-828b-9074c44825e7",
   "metadata": {
    "index": 46,
    "solution": false
   },
   "source": [
    "**Investigating Equal Variance**"
   ]
  },
  {
   "cell_type": "markdown",
   "id": "9f937df2-4d30-4eae-8e5e-68babf05c293",
   "metadata": {
    "index": 48,
    "solution": false
   },
   "source": [
    "Are you violating the equal variance assumption?"
   ]
  },
  {
   "cell_type": "markdown",
   "id": "a2027a44-de20-4cff-868c-da2c14ca9b9f",
   "metadata": {
    "index": 49,
    "solution": true
   },
   "source": [
    "\n",
    "This doesn't look to bad, but there is some evidence of heteroscedasticty. As we saw from this linearity plot, our model is mostly overestimating or underestimating, which is reflected in this plot. The data appears to be a bit more densly distributed at lower values and it becoming more widley distributes as the predicted values increase. The overall variance, however seems to be largly consistent. As the predicted values increase, we do not see a widening of distribution but moreso a change in the mean of the residuals (This again, is better demonstrated by our violation of linearity)"
   ]
  },
  {
   "cell_type": "markdown",
   "id": "0fda3999-5b77-45d9-9b2f-7711ac44458e",
   "metadata": {
    "index": 50,
    "solution": false
   },
   "source": [
    "### Multiple Linear Regression\n",
    "\n",
    "In the cell below, define fit a linear regression using `bmi` and `bp` as independent variables."
   ]
  },
  {
   "cell_type": "code",
   "execution_count": null,
   "id": "fe71b5bb-8cc0-4fd1-8a53-13bf8804f320",
   "metadata": {
    "index": 51,
    "solution": true
   },
   "outputs": [],
   "source": [
    "formula2 = None\n",
    "\n",
    "model2 = None\n",
    "model2.summary()"
   ]
  },
  {
   "cell_type": "markdown",
   "id": "044b2e64-8679-435d-9cba-95391b5461f1",
   "metadata": {
    "index": 53,
    "solution": false
   },
   "source": [
    "### Define a function to calculate the `r2` and `mean squared error`"
   ]
  },
  {
   "cell_type": "code",
   "execution_count": 200,
   "id": "e6e67094-e05a-4dff-9a5d-58f20ea82ba3",
   "metadata": {
    "index": 55,
    "solution": true
   },
   "outputs": [],
   "source": [
    "def metrics(model, target):\n",
    "    # Generate model predictions\n",
    "    preds = model.predict()\n",
    "    # Calcuate r2\n",
    "    r2 = r2_score(target, preds)\n",
    "    # Calculate rmse\n",
    "    rmse = mean_squared_error(target, preds, squared=False)\n",
    "    # Return r2 and rmse\n",
    "    return r2, rmse"
   ]
  },
  {
   "cell_type": "code",
   "execution_count": 202,
   "id": "4044fa40-1756-4283-aeac-7c65f22604f7",
   "metadata": {
    "index": 57,
    "solution": true
   },
   "outputs": [
    {
     "name": "stdout",
     "output_type": "stream",
     "text": [
      "Model1 R^2: 0.3439237602253803\n",
      "Model2 RMSE: 59.84718212461125\n",
      "-------------------------------\n",
      "Model R^2:  0.39599414313715675\n",
      "Model RMSE: 59.84718212461125\n"
     ]
    }
   ],
   "source": [
    "model2_r2, model2_rmse = metrics(model2, df.target)\n",
    "\n",
    "# Print Results\n",
    "print('Model1 R^2:', model1_r2)\n",
    "print('Model2 RMSE:', model2_rmse)\n",
    "print('-------------------------------')\n",
    "\n",
    "print('Model R^2: ', model2_r2)\n",
    "print('Model RMSE:', model2_rmse)"
   ]
  },
  {
   "cell_type": "markdown",
   "id": "2016eda2-6d93-403e-b794-855567b1c7cc",
   "metadata": {
    "index": 58,
    "solution": false
   },
   "source": [
    "### Define a function to plot linearity"
   ]
  },
  {
   "cell_type": "code",
   "execution_count": 206,
   "id": "ee7dc58f-13bb-4466-bfcb-dc103b19ce45",
   "metadata": {
    "index": 60,
    "solution": true
   },
   "outputs": [],
   "source": [
    "def linearity(model, target):\n",
    "    # Generate model predictions\n",
    "    preds = model.predict()\n",
    "    # Create a matplotlib subplot object\n",
    "    fig, ax = plt.subplots()\n",
    "    # Generate a line beginning with target min and\n",
    "    # ending with target max\n",
    "    perfect_line = np.arange(target.min(), target.max())\n",
    "    # Plot the perfect line\n",
    "    ax.plot(perfect_line, linestyle=\"--\", color=\"orange\", label=\"Perfect Fit\")\n",
    "    # Plot a scatter plot with the target as the xaxis and preds as the yaxis\n",
    "    ax.scatter(target, preds, alpha=0.5)\n",
    "    # Set the x and y axis labels\n",
    "    ax.set_xlabel(\"Actual Blood Pressure\")\n",
    "    ax.set_ylabel(\"Predicted Blood Pressure\")\n",
    "    # Activate the axis legend\n",
    "    ax.legend();"
   ]
  },
  {
   "cell_type": "code",
   "execution_count": null,
   "id": "d84f0257-ea0c-4fb8-9c71-c3ab8401e4ca",
   "metadata": {
    "index": 62,
    "solution": true
   },
   "outputs": [],
   "source": [
    "linearity(model2, df.target)"
   ]
  },
  {
   "cell_type": "markdown",
   "id": "df85ab5e-1921-4343-b6f5-03118dcf0fc9",
   "metadata": {
    "index": 63,
    "solution": false
   },
   "source": [
    "### Define a function to plot residual normality."
   ]
  },
  {
   "cell_type": "code",
   "execution_count": null,
   "id": "b35ba4c5-2e06-4ab3-92ca-123ba46906d3",
   "metadata": {
    "index": 67,
    "solution": true
   },
   "outputs": [],
   "source": [
    "normality(model2, df.target)"
   ]
  },
  {
   "cell_type": "markdown",
   "id": "3ab50dce-385c-49f1-9725-085378889df0",
   "metadata": {
    "index": 68,
    "solution": false
   },
   "source": [
    "### Define a function to plot equal_variance"
   ]
  },
  {
   "cell_type": "code",
   "execution_count": 231,
   "id": "6f667ca5-c22d-4e66-9d8b-321c430fc367",
   "metadata": {
    "index": 70,
    "solution": true
   },
   "outputs": [],
   "source": [
    "def equal_var(model, target):\n",
    "    # Generate model predictions\n",
    "    preds = model.predict()\n",
    "    # Calculate error\n",
    "    residuals = preds - target\n",
    "    # Initialize a matplotlib subplot\n",
    "    fig, ax = plt.subplots(figsize=(15,6))\n",
    "    # Plot scatter plot of predictions vs error\n",
    "    ax.scatter(preds, residuals, alpha=0.5)\n",
    "    # Plot a horizontal line set at 0\n",
    "    ax.plot(preds, [0 for i in range(len(df))])\n",
    "    # Set the x and y axis labels\n",
    "    ax.set_xlabel(\"Predicted Value\")\n",
    "    ax.set_ylabel(\"Predicted Value - Actual\");"
   ]
  },
  {
   "cell_type": "code",
   "execution_count": null,
   "id": "865ad0e9-9e06-4f11-ae32-e79266691dba",
   "metadata": {
    "index": 72,
    "solution": true
   },
   "outputs": [],
   "source": [
    "equal_var(model2, df.target)"
   ]
  },
  {
   "cell_type": "markdown",
   "id": "c9a88549-941b-4ffb-bad9-16229e6397f1",
   "metadata": {
    "index": 73,
    "solution": false
   },
   "source": [
    "### Multicolinearity "
   ]
  },
  {
   "cell_type": "code",
   "execution_count": null,
   "id": "f0d9abf3-037f-47a3-8523-282c51e685dd",
   "metadata": {
    "index": 75,
    "solution": true
   },
   "outputs": [],
   "source": [
    "from statsmodels.stats.outliers_influence import variance_inflation_factor\n",
    "\n",
    "rows = df[[\"bmi\", \"bp\"]].values\n",
    "\n",
    "vif_df = pd.DataFrame()\n",
    "vif_df[\"VIF\"] = [variance_inflation_factor(rows, i) for i in range(2)]\n",
    "vif_df[\"feature\"] = [\"bmi\", \"bp\"]\n",
    "\n",
    "vif_df"
   ]
  },
  {
   "cell_type": "markdown",
   "id": "52196bbd-4718-45c7-a0ee-8b4aaf2b206e",
   "metadata": {
    "index": 76,
    "solution": false
   },
   "source": [
    "### Multi-colinearity Function"
   ]
  },
  {
   "cell_type": "code",
   "execution_count": null,
   "id": "1efb5088-a0bf-4790-8c1e-2d552666ceeb",
   "metadata": {
    "index": 78,
    "solution": true
   },
   "outputs": [],
   "source": [
    "def vif(features_df):\n",
    "    rows = features_df.values\n",
    "    vif_df = pd.DataFrame()\n",
    "    vif_df[\"VIF\"] = [variance_inflation_factor(rows, i) for i in range(features_df.shape[1])]\n",
    "    vif_df[\"feature\"] = features_df.columns\n",
    "    return vif_df"
   ]
  },
  {
   "cell_type": "code",
   "execution_count": null,
   "id": "ccc06fd9-35f4-4c48-920c-f41cbabff3e8",
   "metadata": {
    "index": 80,
    "solution": true
   },
   "outputs": [],
   "source": [
    "vif(df[['bmi', 'bp']])"
   ]
  }
 ],
 "metadata": {
  "kernelspec": {
   "display_name": "Python 3 (ipykernel)",
   "language": "python",
   "name": "python3"
  },
  "language_info": {
   "codemirror_mode": {
    "name": "ipython",
    "version": 3
   },
   "file_extension": ".py",
   "mimetype": "text/x-python",
   "name": "python",
   "nbconvert_exporter": "python",
   "pygments_lexer": "ipython3",
   "version": "3.9.5"
  }
 },
 "nbformat": 4,
 "nbformat_minor": 5
}
