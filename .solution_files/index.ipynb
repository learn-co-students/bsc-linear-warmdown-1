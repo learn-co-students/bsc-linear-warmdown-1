{
 "cells": [
  {
   "cell_type": "code",
   "execution_count": 1,
   "id": "bcb18960-d8df-479a-9f07-bb8f421195bd",
   "metadata": {
    "execution": {
     "iopub.execute_input": "2021-10-12T19:29:54.053813Z",
     "iopub.status.busy": "2021-10-12T19:29:54.052946Z",
     "iopub.status.idle": "2021-10-12T19:29:54.972206Z",
     "shell.execute_reply": "2021-10-12T19:29:54.970548Z"
    },
    "index": 1,
    "solution": true
   },
   "outputs": [],
   "source": [
    "# Primary libraries\n",
    "import pandas as pd\n",
    "import numpy as np\n",
    "import statsmodels.api as sm\n",
    "import statsmodels.formula.api as smf\n",
    "\n",
    "# Custom functions\n",
    "from src import helpers"
   ]
  },
  {
   "cell_type": "markdown",
   "id": "8dfea4ad",
   "metadata": {
    "index": 2,
    "solution": false
   },
   "source": [
    "# Linear Regression Practice\n",
    "\n",
    "A dataset called `diabetes.csv` is stored in the `data` folder for this repository. \n",
    "\n",
    "In the cell below, read in the dataset using pandas, and output the head of the dataframe. Assign the dataframe to the variable `df`."
   ]
  },
  {
   "cell_type": "code",
   "execution_count": 2,
   "id": "60e7a4c7-a0b9-407b-8c6e-b376a4786aa5",
   "metadata": {
    "execution": {
     "iopub.execute_input": "2021-10-12T19:29:54.981459Z",
     "iopub.status.busy": "2021-10-12T19:29:54.980903Z",
     "iopub.status.idle": "2021-10-12T19:29:54.987998Z",
     "shell.execute_reply": "2021-10-12T19:29:54.988417Z"
    },
    "index": 4,
    "solution": true
   },
   "outputs": [],
   "source": [
    "df = pd.read_csv('data/diabetes.csv')"
   ]
  },
  {
   "cell_type": "markdown",
   "id": "9714077d-9fed-4abd-abbe-e01e836d2fb4",
   "metadata": {
    "index": 5,
    "solution": false
   },
   "source": [
    "**Each row in this dataset represents a patient with diabetes.** \n",
    "\n",
    "For this assignment, the variables of focus will be:\n",
    "* age\n",
    "* sex\n",
    "* bmi\n",
    "* bp\n",
    "* target\n",
    "\n",
    "<details>\n",
    "    <summary>\n",
    "        <i>Click here to view the documentation for the dataset\n",
    "        </i>\n",
    "    </summary>\n",
    "    <h1>Diabetes dataset</h1>\n",
    "    <p>\n",
    "\n",
    "\n",
    "Ten baseline variables, age, sex, body mass index, average blood\n",
    "pressure, and six blood serum measurements were obtained for each of n =\n",
    "442 diabetes patients, as well as the response of interest, a\n",
    "quantitative measure of disease progression one year after baseline.\n",
    "\n",
    "**Data Set Characteristics:**\n",
    "\n",
    "  :Number of Instances: 442\n",
    "\n",
    "  :Number of Attributes: First 10 columns are numeric predictive values\n",
    "\n",
    "  :Target: Column 11 is a quantitative measure of disease progression one year after baseline\n",
    "\n",
    "  :Attribute Information:\n",
    "      - age     age in years\n",
    "      - sex\n",
    "      - bmi     body mass index\n",
    "      - bp      average blood pressure\n",
    "      - s1      tc, total serum cholesterol\n",
    "      - s2      ldl, low-density lipoproteins\n",
    "      - s3      hdl, high-density lipoproteins\n",
    "      - s4      tch, total cholesterol / HDL\n",
    "      - s5      ltg, possibly log of serum triglycerides level\n",
    "      - s6      glu, blood sugar level\n",
    "\n",
    "Note: Each of these 10 feature variables have been mean centered and scaled by the standard deviation times `n_samples` (i.e. the sum of squares of each column totals 1).\n",
    "\n",
    "Source URL:\n",
    "https://www4.stat.ncsu.edu/~boos/var.select/diabetes.html\n",
    "\n",
    "For more information see:\n",
    "Bradley Efron, Trevor Hastie, Iain Johnstone and Robert Tibshirani (2004) \"Least Angle Regression,\" Annals of Statistics (with discussion), 407-499.\n",
    "(https://web.stanford.edu/~hastie/Papers/LARS/LeastAngle_2002.pdf)\n",
    "    \n",
    "  </p>\n",
    "</details>"
   ]
  },
  {
   "cell_type": "code",
   "execution_count": 3,
   "id": "163d39c3-b8d4-4826-9f74-a8e94451f788",
   "metadata": {
    "execution": {
     "iopub.execute_input": "2021-10-12T19:29:54.993894Z",
     "iopub.status.busy": "2021-10-12T19:29:54.993241Z",
     "iopub.status.idle": "2021-10-12T19:29:55.000964Z",
     "shell.execute_reply": "2021-10-12T19:29:55.001361Z"
    },
    "index": 7,
    "solution": true
   },
   "outputs": [
    {
     "data": {
      "text/html": [
       "<div>\n",
       "<style scoped>\n",
       "    .dataframe tbody tr th:only-of-type {\n",
       "        vertical-align: middle;\n",
       "    }\n",
       "\n",
       "    .dataframe tbody tr th {\n",
       "        vertical-align: top;\n",
       "    }\n",
       "\n",
       "    .dataframe thead th {\n",
       "        text-align: right;\n",
       "    }\n",
       "</style>\n",
       "<table border=\"1\" class=\"dataframe\">\n",
       "  <thead>\n",
       "    <tr style=\"text-align: right;\">\n",
       "      <th></th>\n",
       "      <th>target</th>\n",
       "      <th>age</th>\n",
       "      <th>sex</th>\n",
       "      <th>bmi</th>\n",
       "      <th>bp</th>\n",
       "    </tr>\n",
       "  </thead>\n",
       "  <tbody>\n",
       "    <tr>\n",
       "      <th>0</th>\n",
       "      <td>151.0</td>\n",
       "      <td>0.038076</td>\n",
       "      <td>1</td>\n",
       "      <td>0.061696</td>\n",
       "      <td>0.021872</td>\n",
       "    </tr>\n",
       "    <tr>\n",
       "      <th>1</th>\n",
       "      <td>75.0</td>\n",
       "      <td>-0.001882</td>\n",
       "      <td>0</td>\n",
       "      <td>-0.051474</td>\n",
       "      <td>-0.026328</td>\n",
       "    </tr>\n",
       "  </tbody>\n",
       "</table>\n",
       "</div>"
      ],
      "text/plain": [
       "   target       age  sex       bmi        bp\n",
       "0   151.0  0.038076    1  0.061696  0.021872\n",
       "1    75.0 -0.001882    0 -0.051474 -0.026328"
      ]
     },
     "execution_count": 3,
     "metadata": {},
     "output_type": "execute_result"
    }
   ],
   "source": [
    "df = df[['target', 'age', 'sex', 'bmi', 'bp']]\n",
    "df.head(2)"
   ]
  },
  {
   "cell_type": "code",
   "execution_count": 4,
   "id": "86441454-2e67-4f11-9569-d729e286923d",
   "metadata": {
    "execution": {
     "iopub.execute_input": "2021-10-12T19:29:55.008533Z",
     "iopub.status.busy": "2021-10-12T19:29:55.006161Z",
     "iopub.status.idle": "2021-10-12T19:29:55.011774Z",
     "shell.execute_reply": "2021-10-12T19:29:55.012274Z"
    },
    "index": 9,
    "solution": true
   },
   "outputs": [
    {
     "data": {
      "application/vnd.jupyter.widget-view+json": {
       "model_id": "908116bfccaa44c391b00d52cd99c022",
       "version_major": 2,
       "version_minor": 0
      },
      "text/plain": [
       "VBox(children=(Output(outputs=({'output_type': 'display_data', 'metadata': {}, 'data': {'text/plain': '<IPytho…"
      ]
     },
     "metadata": {},
     "output_type": "display_data"
    }
   ],
   "source": [
    "# Run this cell unchanged\n",
    "helpers.independent.display()"
   ]
  },
  {
   "cell_type": "markdown",
   "id": "680ba641-584e-4f95-9dd6-a9f37a2993f6",
   "metadata": {
    "index": 10,
    "solution": false
   },
   "source": [
    "**For our first model, let's figure out which column is most correlated with the target.**\n",
    "\n",
    "In the cell below,\n",
    "\n",
    "* Identify the most correlated feature with the target column.\n",
    "* Assign the name of the column to the variable `most_correlated`."
   ]
  },
  {
   "cell_type": "code",
   "execution_count": 5,
   "id": "3cacccf1",
   "metadata": {
    "execution": {
     "iopub.execute_input": "2021-10-12T19:29:55.017460Z",
     "iopub.status.busy": "2021-10-12T19:29:55.016862Z",
     "iopub.status.idle": "2021-10-12T19:29:55.018634Z",
     "shell.execute_reply": "2021-10-12T19:29:55.019060Z"
    },
    "index": 12,
    "solution": true
   },
   "outputs": [],
   "source": [
    "most_correlated = df.corr().sort_values('target').iloc[-2].name"
   ]
  },
  {
   "cell_type": "code",
   "execution_count": 6,
   "id": "f75c4557-bc2c-41a9-982a-30a26bbabe80",
   "metadata": {
    "execution": {
     "iopub.execute_input": "2021-10-12T19:29:55.025219Z",
     "iopub.status.busy": "2021-10-12T19:29:55.022754Z",
     "iopub.status.idle": "2021-10-12T19:29:55.028053Z",
     "shell.execute_reply": "2021-10-12T19:29:55.028635Z"
    },
    "index": 14,
    "solution": true
   },
   "outputs": [
    {
     "data": {
      "application/vnd.jupyter.widget-view+json": {
       "model_id": "69f358d78de240718f1934fac37d747c",
       "version_major": 2,
       "version_minor": 0
      },
      "text/plain": [
       "VBox(children=(Output(outputs=({'output_type': 'display_data', 'metadata': {}, 'data': {'text/plain': '<IPytho…"
      ]
     },
     "metadata": {},
     "output_type": "display_data"
    }
   ],
   "source": [
    "# Run this cell unchanged!\n",
    "helpers.correlation.display()"
   ]
  },
  {
   "cell_type": "code",
   "execution_count": 7,
   "id": "027d1714",
   "metadata": {
    "execution": {
     "iopub.execute_input": "2021-10-12T19:29:55.036198Z",
     "iopub.status.busy": "2021-10-12T19:29:55.032350Z",
     "iopub.status.idle": "2021-10-12T19:29:55.039400Z",
     "shell.execute_reply": "2021-10-12T19:29:55.039877Z"
    },
    "index": 16,
    "solution": true
   },
   "outputs": [
    {
     "data": {
      "application/vnd.jupyter.widget-view+json": {
       "model_id": "a23e19fafb3d44c89878873b220a363b",
       "version_major": 2,
       "version_minor": 0
      },
      "text/plain": [
       "VBox(children=(Output(outputs=({'output_type': 'display_data', 'metadata': {}, 'data': {'text/plain': '<IPytho…"
      ]
     },
     "metadata": {},
     "output_type": "display_data"
    }
   ],
   "source": [
    "# Run this cell unchanged!\n",
    "helpers.correlation_strong.display()"
   ]
  },
  {
   "cell_type": "markdown",
   "id": "92a5281e",
   "metadata": {
    "index": 17,
    "solution": false
   },
   "source": [
    "Let's create a model using the most correlated feature as the only predictor.\n",
    "\n",
    "## There are two main ways of creating a linear regression model when using `statsmodels`. \n",
    "### 1. The pythonic way\n",
    "   - For this approach you will typically see statsmodels imported with the line `import statsmodels.api as sm`\n",
    "   - Using this approach, you create the model by passing the actual data objects into the model like so..\n",
    "        \n",
    "        --------------\n",
    "        ```python\n",
    "        model = sm.OLS(df.target, df.bmi)\n",
    "        model_results = model.fit()\n",
    "        ```\n",
    "        --------------\n",
    "       \n",
    "       \n",
    "   - This approach can be handy when you have a lot a features and do not wish to type the name of each column because you can pass in an entire dataframe of predictors.\n",
    "   - One small annoyance with this approach is that the model does not use an intercept by default so you typically have to add the intercept manually\n",
    "    \n",
    "    \n",
    "    --------------\n",
    "    ```python\n",
    "    model = sm.OLS(df.target, df[['bmi']].assign(intercept=1))\n",
    "    model_results = model.fit()\n",
    "    ```\n",
    "    \n",
    "    ----------------\n",
    "    \n",
    "### 2. The `R` formula way\n",
    "   - For this approach you will typically see statsmodels imported with the line `import statsmodels.formula.api as smf`\n",
    "   - Using this approach, you write your linear equation as a string with the following format:\n",
    "    \n",
    "```python\n",
    "'{dependent_variable} ~ {independent_variable_1} + ... {indepdendent_variable_n}'\n",
    "```\n",
    "        \n",
    "   - In this case, with a dependent variable of `target` and a single independent variable of `bmi`, our formula looks like this:\n",
    "   ```python\n",
    "    'target ~ bmi'\n",
    "    ```\n",
    "   - And the full modeling code looks like this:\n",
    "   \n",
    "   --------\n",
    "   \n",
    "```python\n",
    "formula = 'target ~ bmi'\n",
    "model = smf.ols(formula, data=df)\n",
    "model_results = model.fit()\n",
    "```\n",
    "    \n",
    "   --------\n",
    "    \n",
    "   - Using this approach, the intercept is added by default\n",
    "   - One downside of this approach is that writing the formula can be a little cumbersome when you have a lot of features\n",
    "   \n",
    "   \n",
    "## tl;dr There are multiple ways of creating a model, but either option works perfectly fine. \n",
    "\n",
    "In this notebook, we will focus on using the `R` formula method for the following reasons:\n",
    "1. This bootcamp focuses primarily on  *Ordinary Least Squares Linear Regression*, but there are some more advanced versions of linear regression in statsmodels that are only supported by the formula approach. Because of this, familiarity with the formula technique is highly encouraged.\n",
    "2. The formula approach adds an intercept term by default which is extremely convenient!"
   ]
  },
  {
   "cell_type": "markdown",
   "id": "7e0800bb",
   "metadata": {
    "index": 18,
    "solution": false
   },
   "source": [
    "**In the cell below, write the formula for our first linear regression model and assign the string to a variable called `formula1`.**"
   ]
  },
  {
   "cell_type": "code",
   "execution_count": 8,
   "id": "c84f3d20",
   "metadata": {
    "execution": {
     "iopub.execute_input": "2021-10-12T19:29:55.043345Z",
     "iopub.status.busy": "2021-10-12T19:29:55.042771Z",
     "iopub.status.idle": "2021-10-12T19:29:55.044323Z",
     "shell.execute_reply": "2021-10-12T19:29:55.044803Z"
    },
    "index": 20,
    "solution": true
   },
   "outputs": [],
   "source": [
    "formula1 = 'target ~ bmi'"
   ]
  },
  {
   "cell_type": "markdown",
   "id": "43b66519",
   "metadata": {
    "index": 21,
    "solution": false
   },
   "source": [
    "Let's fit the model and interpret the results!"
   ]
  },
  {
   "cell_type": "code",
   "execution_count": 9,
   "id": "a2e4f911-6e5e-426f-b7b7-6eb7949f0978",
   "metadata": {
    "execution": {
     "iopub.execute_input": "2021-10-12T19:29:55.086403Z",
     "iopub.status.busy": "2021-10-12T19:29:55.085711Z",
     "iopub.status.idle": "2021-10-12T19:29:55.093383Z",
     "shell.execute_reply": "2021-10-12T19:29:55.093861Z"
    },
    "index": 23,
    "solution": true
   },
   "outputs": [
    {
     "data": {
      "text/html": [
       "<table class=\"simpletable\">\n",
       "<tr>\n",
       "      <td></td>         <th>coef</th>     <th>std err</th>      <th>t</th>      <th>P>|t|</th>  <th>[0.025</th>    <th>0.975]</th>  \n",
       "</tr>\n",
       "<tr>\n",
       "  <th>Intercept</th> <td>  152.1335</td> <td>    2.974</td> <td>   51.162</td> <td> 0.000</td> <td>  146.289</td> <td>  157.978</td>\n",
       "</tr>\n",
       "<tr>\n",
       "  <th>bmi</th>       <td>  949.4353</td> <td>   62.515</td> <td>   15.187</td> <td> 0.000</td> <td>  826.570</td> <td> 1072.301</td>\n",
       "</tr>\n",
       "</table>"
      ],
      "text/plain": [
       "<class 'statsmodels.iolib.table.SimpleTable'>"
      ]
     },
     "execution_count": 9,
     "metadata": {},
     "output_type": "execute_result"
    }
   ],
   "source": [
    "model1 = smf.ols(formula1, df).fit()\n",
    "model1.summary().tables[1]"
   ]
  },
  {
   "cell_type": "markdown",
   "id": "5dbab5d0",
   "metadata": {
    "index": 24,
    "solution": false
   },
   "source": [
    "**Using the table above, we have all the information we need to write a linear equation.**\n",
    "\n",
    "Intercept = 152.1335\n",
    "\n",
    "Slope = 949.4353\n",
    "\n",
    "Linear Equation:  $target = 152.1335 + 949.4353bmi$"
   ]
  },
  {
   "cell_type": "markdown",
   "id": "8340a3eb",
   "metadata": {
    "index": 25,
    "solution": false
   },
   "source": [
    "## Interpret the numbers"
   ]
  },
  {
   "cell_type": "markdown",
   "id": "04dcc364",
   "metadata": {
    "index": 26,
    "solution": false
   },
   "source": [
    "#### Interpreting the intercept"
   ]
  },
  {
   "cell_type": "code",
   "execution_count": 10,
   "id": "ea0b5314-e842-4f04-900a-4b64533c7621",
   "metadata": {
    "execution": {
     "iopub.execute_input": "2021-10-12T19:29:55.102443Z",
     "iopub.status.busy": "2021-10-12T19:29:55.101722Z",
     "iopub.status.idle": "2021-10-12T19:29:55.104961Z",
     "shell.execute_reply": "2021-10-12T19:29:55.105439Z"
    },
    "index": 28,
    "solution": true
   },
   "outputs": [
    {
     "data": {
      "application/vnd.jupyter.widget-view+json": {
       "model_id": "1a4f1e0be4dc4a5d811d5b63ff8f93b4",
       "version_major": 2,
       "version_minor": 0
      },
      "text/plain": [
       "VBox(children=(Output(outputs=({'output_type': 'display_data', 'metadata': {}, 'data': {'text/plain': '<IPytho…"
      ]
     },
     "metadata": {},
     "output_type": "display_data"
    }
   ],
   "source": [
    "# Run this cell unchanged\n",
    "helpers.intercept.display()"
   ]
  },
  {
   "cell_type": "markdown",
   "id": "8d9ba03c",
   "metadata": {
    "index": 29,
    "solution": false
   },
   "source": [
    "#### Interpret the slope"
   ]
  },
  {
   "cell_type": "code",
   "execution_count": 11,
   "id": "541e91fd-07e1-4a56-b532-df74cbd7b5de",
   "metadata": {
    "execution": {
     "iopub.execute_input": "2021-10-12T19:29:55.112622Z",
     "iopub.status.busy": "2021-10-12T19:29:55.109994Z",
     "iopub.status.idle": "2021-10-12T19:29:55.116059Z",
     "shell.execute_reply": "2021-10-12T19:29:55.116630Z"
    },
    "index": 31,
    "solution": true
   },
   "outputs": [
    {
     "data": {
      "application/vnd.jupyter.widget-view+json": {
       "model_id": "dc6ba6e1facf4266b13aeb17a4a1eefd",
       "version_major": 2,
       "version_minor": 0
      },
      "text/plain": [
       "VBox(children=(Output(outputs=({'output_type': 'display_data', 'metadata': {}, 'data': {'text/plain': '<IPytho…"
      ]
     },
     "metadata": {},
     "output_type": "display_data"
    }
   ],
   "source": [
    "# Run this cell unchanged\n",
    "helpers.slope.display()"
   ]
  },
  {
   "cell_type": "markdown",
   "id": "21c3b9f3-76ba-4204-bf00-731e08182422",
   "metadata": {
    "index": 32,
    "solution": false
   },
   "source": [
    "## Evaluate the model\n",
    "\n",
    "In the cell below,\n",
    "1. Import `r2_score` and `mean_squared_error` from the sklearn metrics module.\n",
    "2. Calculate the r2 and RMSE for the model."
   ]
  },
  {
   "cell_type": "code",
   "execution_count": 12,
   "id": "63a626d1-6db4-4649-838d-ea7316267ad1",
   "metadata": {
    "execution": {
     "iopub.execute_input": "2021-10-12T19:29:55.121197Z",
     "iopub.status.busy": "2021-10-12T19:29:55.120536Z",
     "iopub.status.idle": "2021-10-12T19:29:55.290607Z",
     "shell.execute_reply": "2021-10-12T19:29:55.291030Z"
    },
    "index": 34,
    "solution": true
   },
   "outputs": [
    {
     "name": "stdout",
     "output_type": "stream",
     "text": [
      "Model R^2:  0.3439237602253803\n",
      "Model RMSE: 62.37352471570989\n"
     ]
    }
   ],
   "source": [
    "# Import r2_score and mean_squared_error\n",
    "from sklearn.metrics import r2_score, mean_squared_error\n",
    "\n",
    "# Calculate r2\n",
    "model1_r2 = r2_score(df.target, model1.predict())\n",
    "\n",
    "# Calculate RMSE\n",
    "model1_rmse = mean_squared_error(df.target, model1.predict(), squared=False)\n",
    "\n",
    "# Print Results\n",
    "print('Model R^2: ', model1_r2)\n",
    "print('Model RMSE:', model1_rmse)"
   ]
  },
  {
   "cell_type": "markdown",
   "id": "ef43be50-2e67-4966-9dbb-96fa4099e141",
   "metadata": {
    "index": 35,
    "solution": false
   },
   "source": [
    "### Interpret the r2 and RMSE metrics"
   ]
  },
  {
   "cell_type": "markdown",
   "id": "aed2e2cb-0a13-4a28-9752-35021696b5d2",
   "metadata": {
    "index": 36,
    "solution": true
   },
   "source": [
    "\n",
    "\n",
    "The regression model `target ~ bmi` explains about 34% of the variance in the dependent variable. The predictions generated by this model have an average error 62."
   ]
  },
  {
   "cell_type": "markdown",
   "id": "8370a884-f462-46b9-a429-84f1fa112fe5",
   "metadata": {
    "index": 37,
    "solution": false
   },
   "source": [
    "### Check assumptions of Linear Regression"
   ]
  },
  {
   "cell_type": "markdown",
   "id": "ac6bdf58-8839-4100-a8f9-b39fb27c4105",
   "metadata": {
    "index": 38,
    "solution": false
   },
   "source": [
    "**Investigating Linearity**\n",
    "\n",
    "First, let's check whether the linearity assumption holds."
   ]
  },
  {
   "cell_type": "code",
   "execution_count": 13,
   "id": "3e9ab36e-2ddb-402a-8f2a-edd8e8713a88",
   "metadata": {
    "execution": {
     "iopub.execute_input": "2021-10-12T19:29:55.296537Z",
     "iopub.status.busy": "2021-10-12T19:29:55.295952Z",
     "iopub.status.idle": "2021-10-12T19:29:55.616433Z",
     "shell.execute_reply": "2021-10-12T19:29:55.616843Z"
    },
    "index": 40,
    "solution": true
   },
   "outputs": [
    {
     "data": {
      "image/png": "[encoded data removed]",
      "text/plain": [
       "<Figure size 432x288 with 1 Axes>"
      ]
     },
     "metadata": {
      "needs_background": "light"
     },
     "output_type": "display_data"
    }
   ],
   "source": [
    "# Import matplotlib using the standard alias\n",
    "import matplotlib.pyplot as plt\n",
    "\n",
    "# Generate model predictions\n",
    "preds = model1.predict()\n",
    "# Create a matplotlib subplot\n",
    "fig, ax = plt.subplots()\n",
    "\n",
    "# Using numpy.arange create a line that\n",
    "# begins with the minimum target value\n",
    "# and ends with the maximum target value\n",
    "perfect_line = np.arange(df.target.min(), df.target.max())\n",
    "\n",
    "# Plot the `perfect_line`\n",
    "# Set the label to the string \"Perfect Fit\"\n",
    "ax.plot(perfect_line, linestyle=\"--\", color=\"orange\", label=\"Perfect Fit\")\n",
    "\n",
    "# Plot a scatter plot setting the xaxis to \n",
    "# the true target values and the yaxis to\n",
    "# the predicted valued\n",
    "ax.scatter(df.target, preds, alpha=0.5)\n",
    "\n",
    "# Set the xlabel to the string \"Actual Blood Pressure\"\n",
    "ax.set_xlabel(\"Actual Blood Pressure\")\n",
    "\n",
    "# Set the ylabel to the string \"Predicted Blood Pressure\"\n",
    "ax.set_ylabel(\"Predicted Blood Pressure\")\n",
    "\n",
    "# Activate the legend for the matplotlib axis\n",
    "ax.legend();"
   ]
  },
  {
   "cell_type": "markdown",
   "id": "c1137767-e144-4508-a5be-be4157b8b895",
   "metadata": {
    "index": 41,
    "solution": false
   },
   "source": [
    "Are you violating the linearity assumption?"
   ]
  },
  {
   "cell_type": "markdown",
   "id": "2c0a9309-6a21-4269-890c-f752ffe3401f",
   "metadata": {
    "index": 42,
    "solution": true
   },
   "source": [
    "\n",
    "Yes. The predictions generated by this model are deviating from a linear relationship. At low blood pressure levels, the model appears to be mostly overpredicting, and is dramatically underpredicting beyond a blood pressure of ~125."
   ]
  },
  {
   "cell_type": "markdown",
   "id": "b9ebb52a-5e31-4ddc-9724-3f20a4295e34",
   "metadata": {
    "index": 43,
    "solution": false
   },
   "source": [
    "**Investigating Normality**"
   ]
  },
  {
   "cell_type": "code",
   "execution_count": 14,
   "id": "eff6948b-688c-4bb8-8286-71f089663fb0",
   "metadata": {
    "execution": {
     "iopub.execute_input": "2021-10-12T19:29:55.666385Z",
     "iopub.status.busy": "2021-10-12T19:29:55.622339Z",
     "iopub.status.idle": "2021-10-12T19:29:55.863321Z",
     "shell.execute_reply": "2021-10-12T19:29:55.863720Z"
    },
    "index": 45,
    "solution": true
   },
   "outputs": [
    {
     "name": "stderr",
     "output_type": "stream",
     "text": [
      "/Users/joel/opt/anaconda3/envs/python3/lib/python3.9/site-packages/statsmodels/graphics/gofplots.py:993: UserWarning: marker is redundantly defined by the 'marker' keyword argument and the fmt string \"bo\" (-> marker='o'). The keyword argument will take precedence.\n",
      "  ax.plot(x, y, fmt, **plot_style)\n"
     ]
    },
    {
     "data": {
      "image/png": "[encoded data removed]",
      "text/plain": [
       "<Figure size 1440x360 with 2 Axes>"
      ]
     },
     "metadata": {
      "needs_background": "light"
     },
     "output_type": "display_data"
    }
   ],
   "source": [
    "from scipy.stats import norm\n",
    "\n",
    "fig, axes = plt.subplots(1,2, figsize=(20,5))\n",
    "residuals = preds-df.target\n",
    "sm.graphics.qqplot(residuals, dist=norm, line='45', fit=True, ax=axes[0])\n",
    "axes[1].hist(residuals);"
   ]
  },
  {
   "cell_type": "markdown",
   "id": "19713b21-5578-4f62-828b-9074c44825e7",
   "metadata": {
    "index": 46,
    "solution": false
   },
   "source": [
    "**Investigating Equal Variance**"
   ]
  },
  {
   "cell_type": "code",
   "execution_count": 15,
   "id": "630e30b3-7856-4dde-b700-65ad580f8b20",
   "metadata": {
    "execution": {
     "iopub.execute_input": "2021-10-12T19:29:55.900416Z",
     "iopub.status.busy": "2021-10-12T19:29:55.884844Z",
     "iopub.status.idle": "2021-10-12T19:29:55.979889Z",
     "shell.execute_reply": "2021-10-12T19:29:55.980354Z"
    },
    "index": 48,
    "solution": true
   },
   "outputs": [
    {
     "data": {
      "image/png": "[encoded data removed]",
      "text/plain": [
       "<Figure size 1080x432 with 1 Axes>"
      ]
     },
     "metadata": {
      "needs_background": "light"
     },
     "output_type": "display_data"
    }
   ],
   "source": [
    "fig, ax = plt.subplots(figsize=(15,6))\n",
    "\n",
    "ax.scatter(preds, residuals, alpha=0.5)\n",
    "ax.plot(preds, [0 for i in range(len(df))])\n",
    "ax.set_xlabel(\"Predicted Value\")\n",
    "ax.set_ylabel(\"Predicted Value - Actual\");"
   ]
  },
  {
   "cell_type": "markdown",
   "id": "9f937df2-4d30-4eae-8e5e-68babf05c293",
   "metadata": {
    "index": 49,
    "solution": false
   },
   "source": [
    "Are you violating the equal variance assumption?"
   ]
  },
  {
   "cell_type": "markdown",
   "id": "a2027a44-de20-4cff-868c-da2c14ca9b9f",
   "metadata": {
    "index": 50,
    "solution": true
   },
   "source": [
    "\n",
    "This doesn't look to bad, but there is some evidence of heteroscedasticty. As we saw from this linearity plot, our model is mostly overestimating or underestimating, which is reflected in this plot. The data appears to be a bit more densly distributed at lower values and it becoming more widley distributes as the predicted values increase. The overall variance, however seems to be largly consistent. As the predicted values increase, we do not see a widening of distribution but moreso a change in the mean of the residuals (This again, is better demonstrated by our violation of linearity)"
   ]
  },
  {
   "cell_type": "markdown",
   "id": "0fda3999-5b77-45d9-9b2f-7711ac44458e",
   "metadata": {
    "index": 51,
    "solution": false
   },
   "source": [
    "### Multiple Linear Regression\n",
    "\n",
    "In the cell below, define fit a linear regression using `bmi` and `bp` as independent variables."
   ]
  },
  {
   "cell_type": "code",
   "execution_count": 16,
   "id": "a8974db6-c5dd-4096-8e2c-6e11005a95f6",
   "metadata": {
    "execution": {
     "iopub.execute_input": "2021-10-12T19:29:55.988907Z",
     "iopub.status.busy": "2021-10-12T19:29:55.988307Z",
     "iopub.status.idle": "2021-10-12T19:29:56.000121Z",
     "shell.execute_reply": "2021-10-12T19:29:56.000579Z"
    },
    "index": 53,
    "solution": true
   },
   "outputs": [
    {
     "data": {
      "text/html": [
       "<table class=\"simpletable\">\n",
       "<caption>OLS Regression Results</caption>\n",
       "<tr>\n",
       "  <th>Dep. Variable:</th>         <td>target</td>      <th>  R-squared:         </th> <td>   0.396</td>\n",
       "</tr>\n",
       "<tr>\n",
       "  <th>Model:</th>                   <td>OLS</td>       <th>  Adj. R-squared:    </th> <td>   0.393</td>\n",
       "</tr>\n",
       "<tr>\n",
       "  <th>Method:</th>             <td>Least Squares</td>  <th>  F-statistic:       </th> <td>   143.9</td>\n",
       "</tr>\n",
       "<tr>\n",
       "  <th>Date:</th>             <td>Tue, 12 Oct 2021</td> <th>  Prob (F-statistic):</th> <td>8.68e-49</td>\n",
       "</tr>\n",
       "<tr>\n",
       "  <th>Time:</th>                 <td>14:29:55</td>     <th>  Log-Likelihood:    </th> <td> -2435.7</td>\n",
       "</tr>\n",
       "<tr>\n",
       "  <th>No. Observations:</th>      <td>   442</td>      <th>  AIC:               </th> <td>   4877.</td>\n",
       "</tr>\n",
       "<tr>\n",
       "  <th>Df Residuals:</th>          <td>   439</td>      <th>  BIC:               </th> <td>   4890.</td>\n",
       "</tr>\n",
       "<tr>\n",
       "  <th>Df Model:</th>              <td>     2</td>      <th>                     </th>     <td> </td>   \n",
       "</tr>\n",
       "<tr>\n",
       "  <th>Covariance Type:</th>      <td>nonrobust</td>    <th>                     </th>     <td> </td>   \n",
       "</tr>\n",
       "</table>\n",
       "<table class=\"simpletable\">\n",
       "<tr>\n",
       "      <td></td>         <th>coef</th>     <th>std err</th>      <th>t</th>      <th>P>|t|</th>  <th>[0.025</th>    <th>0.975]</th>  \n",
       "</tr>\n",
       "<tr>\n",
       "  <th>Intercept</th> <td>  152.1335</td> <td>    2.856</td> <td>   53.261</td> <td> 0.000</td> <td>  146.520</td> <td>  157.747</td>\n",
       "</tr>\n",
       "<tr>\n",
       "  <th>bmi</th>       <td>  790.3966</td> <td>   65.380</td> <td>   12.089</td> <td> 0.000</td> <td>  661.901</td> <td>  918.892</td>\n",
       "</tr>\n",
       "<tr>\n",
       "  <th>bp</th>        <td>  402.2067</td> <td>   65.380</td> <td>    6.152</td> <td> 0.000</td> <td>  273.711</td> <td>  530.703</td>\n",
       "</tr>\n",
       "</table>\n",
       "<table class=\"simpletable\">\n",
       "<tr>\n",
       "  <th>Omnibus:</th>       <td>12.428</td> <th>  Durbin-Watson:     </th> <td>   1.930</td>\n",
       "</tr>\n",
       "<tr>\n",
       "  <th>Prob(Omnibus):</th> <td> 0.002</td> <th>  Jarque-Bera (JB):  </th> <td>   7.822</td>\n",
       "</tr>\n",
       "<tr>\n",
       "  <th>Skew:</th>          <td> 0.171</td> <th>  Prob(JB):          </th> <td>  0.0200</td>\n",
       "</tr>\n",
       "<tr>\n",
       "  <th>Kurtosis:</th>      <td> 2.446</td> <th>  Cond. No.          </th> <td>    27.0</td>\n",
       "</tr>\n",
       "</table><br/><br/>Notes:<br/>[1] Standard Errors assume that the covariance matrix of the errors is correctly specified."
      ],
      "text/plain": [
       "<class 'statsmodels.iolib.summary.Summary'>\n",
       "\"\"\"\n",
       "                            OLS Regression Results                            \n",
       "==============================================================================\n",
       "Dep. Variable:                 target   R-squared:                       0.396\n",
       "Model:                            OLS   Adj. R-squared:                  0.393\n",
       "Method:                 Least Squares   F-statistic:                     143.9\n",
       "Date:                Tue, 12 Oct 2021   Prob (F-statistic):           8.68e-49\n",
       "Time:                        14:29:55   Log-Likelihood:                -2435.7\n",
       "No. Observations:                 442   AIC:                             4877.\n",
       "Df Residuals:                     439   BIC:                             4890.\n",
       "Df Model:                           2                                         \n",
       "Covariance Type:            nonrobust                                         \n",
       "==============================================================================\n",
       "                 coef    std err          t      P>|t|      [0.025      0.975]\n",
       "------------------------------------------------------------------------------\n",
       "Intercept    152.1335      2.856     53.261      0.000     146.520     157.747\n",
       "bmi          790.3966     65.380     12.089      0.000     661.901     918.892\n",
       "bp           402.2067     65.380      6.152      0.000     273.711     530.703\n",
       "==============================================================================\n",
       "Omnibus:                       12.428   Durbin-Watson:                   1.930\n",
       "Prob(Omnibus):                  0.002   Jarque-Bera (JB):                7.822\n",
       "Skew:                           0.171   Prob(JB):                       0.0200\n",
       "Kurtosis:                       2.446   Cond. No.                         27.0\n",
       "==============================================================================\n",
       "\n",
       "Notes:\n",
       "[1] Standard Errors assume that the covariance matrix of the errors is correctly specified.\n",
       "\"\"\""
      ]
     },
     "execution_count": 16,
     "metadata": {},
     "output_type": "execute_result"
    }
   ],
   "source": [
    "formula2 = 'target~bmi + bp'\n",
    "\n",
    "model2 = smf.ols(formula2, df).fit()\n",
    "model2.summary()"
   ]
  },
  {
   "cell_type": "markdown",
   "id": "044b2e64-8679-435d-9cba-95391b5461f1",
   "metadata": {
    "index": 54,
    "solution": false
   },
   "source": [
    "### Define a function to calculate the `r2` and `mean squared error`"
   ]
  },
  {
   "cell_type": "code",
   "execution_count": 17,
   "id": "e6e67094-e05a-4dff-9a5d-58f20ea82ba3",
   "metadata": {
    "execution": {
     "iopub.execute_input": "2021-10-12T19:29:56.004825Z",
     "iopub.status.busy": "2021-10-12T19:29:56.004254Z",
     "iopub.status.idle": "2021-10-12T19:29:56.006047Z",
     "shell.execute_reply": "2021-10-12T19:29:56.006555Z"
    },
    "index": 56,
    "solution": true
   },
   "outputs": [],
   "source": [
    "def metrics(model, target):\n",
    "    # Generate model predictions\n",
    "    preds = model.predict()\n",
    "    # Calcuate r2\n",
    "    r2 = r2_score(target, preds)\n",
    "    # Calculate rmse\n",
    "    rmse = mean_squared_error(target, preds, squared=False)\n",
    "    # Return r2 and rmse\n",
    "    return r2, rmse"
   ]
  },
  {
   "cell_type": "code",
   "execution_count": 18,
   "id": "4044fa40-1756-4283-aeac-7c65f22604f7",
   "metadata": {
    "execution": {
     "iopub.execute_input": "2021-10-12T19:29:56.011580Z",
     "iopub.status.busy": "2021-10-12T19:29:56.010952Z",
     "iopub.status.idle": "2021-10-12T19:29:56.013277Z",
     "shell.execute_reply": "2021-10-12T19:29:56.013727Z"
    },
    "index": 58,
    "solution": true
   },
   "outputs": [
    {
     "name": "stdout",
     "output_type": "stream",
     "text": [
      "Model1 R^2: 0.3439237602253803\n",
      "Model2 RMSE: 59.84718212461125\n",
      "-------------------------------\n",
      "Model R^2:  0.39599414313715675\n",
      "Model RMSE: 59.84718212461125\n"
     ]
    }
   ],
   "source": [
    "model2_r2, model2_rmse = metrics(model2, df.target)\n",
    "\n",
    "# Print Results\n",
    "print('Model1 R^2:', model1_r2)\n",
    "print('Model2 RMSE:', model2_rmse)\n",
    "print('-------------------------------')\n",
    "\n",
    "print('Model R^2: ', model2_r2)\n",
    "print('Model RMSE:', model2_rmse)"
   ]
  },
  {
   "cell_type": "markdown",
   "id": "2016eda2-6d93-403e-b794-855567b1c7cc",
   "metadata": {
    "index": 59,
    "solution": false
   },
   "source": [
    "### Define a function to plot linearity"
   ]
  },
  {
   "cell_type": "code",
   "execution_count": 19,
   "id": "ee7dc58f-13bb-4466-bfcb-dc103b19ce45",
   "metadata": {
    "execution": {
     "iopub.execute_input": "2021-10-12T19:29:56.018760Z",
     "iopub.status.busy": "2021-10-12T19:29:56.018148Z",
     "iopub.status.idle": "2021-10-12T19:29:56.020017Z",
     "shell.execute_reply": "2021-10-12T19:29:56.020426Z"
    },
    "index": 61,
    "solution": true
   },
   "outputs": [],
   "source": [
    "def linearity(model, target):\n",
    "    # Generate model predictions\n",
    "    preds = model.predict()\n",
    "    # Create a matplotlib subplot object\n",
    "    fig, ax = plt.subplots()\n",
    "    # Generate a line beginning with target min and\n",
    "    # ending with target max\n",
    "    perfect_line = np.arange(target.min(), target.max())\n",
    "    # Plot the perfect line\n",
    "    ax.plot(perfect_line, linestyle=\"--\", color=\"orange\", label=\"Perfect Fit\")\n",
    "    # Plot a scatter plot with the target as the xaxis and preds as the yaxis\n",
    "    ax.scatter(target, preds, alpha=0.5)\n",
    "    # Set the x and y axis labels\n",
    "    ax.set_xlabel(\"Actual Blood Pressure\")\n",
    "    ax.set_ylabel(\"Predicted Blood Pressure\")\n",
    "    # Activate the axis legend\n",
    "    ax.legend();"
   ]
  },
  {
   "cell_type": "code",
   "execution_count": 20,
   "id": "d84f0257-ea0c-4fb8-9c71-c3ab8401e4ca",
   "metadata": {
    "execution": {
     "iopub.execute_input": "2021-10-12T19:29:56.064909Z",
     "iopub.status.busy": "2021-10-12T19:29:56.060474Z",
     "iopub.status.idle": "2021-10-12T19:29:56.153602Z",
     "shell.execute_reply": "2021-10-12T19:29:56.153011Z"
    },
    "index": 63,
    "solution": true
   },
   "outputs": [
    {
     "data": {
      "image/png": "[encoded data removed]",
      "text/plain": [
       "<Figure size 432x288 with 1 Axes>"
      ]
     },
     "metadata": {
      "needs_background": "light"
     },
     "output_type": "display_data"
    }
   ],
   "source": [
    "linearity(model2, df.target)"
   ]
  },
  {
   "cell_type": "markdown",
   "id": "df85ab5e-1921-4343-b6f5-03118dcf0fc9",
   "metadata": {
    "index": 64,
    "solution": false
   },
   "source": [
    "### Define a function to plot residual normality."
   ]
  },
  {
   "cell_type": "code",
   "execution_count": 21,
   "id": "2634cbb5-8a64-4a46-a049-a1431fee7d74",
   "metadata": {
    "execution": {
     "iopub.execute_input": "2021-10-12T19:29:56.158341Z",
     "iopub.status.busy": "2021-10-12T19:29:56.157788Z",
     "iopub.status.idle": "2021-10-12T19:29:56.159669Z",
     "shell.execute_reply": "2021-10-12T19:29:56.160072Z"
    },
    "index": 66,
    "solution": true
   },
   "outputs": [],
   "source": [
    "def normality(model, target):\n",
    "    # Initialize a matplotlib subplot\n",
    "    fig, axes = plt.subplots(1,2, figsize=(20,5))\n",
    "    # Generate model predictions\n",
    "    preds = model.predict()\n",
    "    # Calculate error\n",
    "    residuals = preds - target\n",
    "    # Plot the residuals as a qqplot\n",
    "    sm.graphics.qqplot(residuals, dist=norm, line='45', fit=True, ax=axes[0])\n",
    "    # Plot a histogram\n",
    "    axes[1].hist(residuals);"
   ]
  },
  {
   "cell_type": "code",
   "execution_count": 22,
   "id": "b35ba4c5-2e06-4ab3-92ca-123ba46906d3",
   "metadata": {
    "execution": {
     "iopub.execute_input": "2021-10-12T19:29:56.192795Z",
     "iopub.status.busy": "2021-10-12T19:29:56.165558Z",
     "iopub.status.idle": "2021-10-12T19:29:56.352496Z",
     "shell.execute_reply": "2021-10-12T19:29:56.352895Z"
    },
    "index": 68,
    "solution": true
   },
   "outputs": [
    {
     "name": "stderr",
     "output_type": "stream",
     "text": [
      "/Users/joel/opt/anaconda3/envs/python3/lib/python3.9/site-packages/statsmodels/graphics/gofplots.py:993: UserWarning: marker is redundantly defined by the 'marker' keyword argument and the fmt string \"bo\" (-> marker='o'). The keyword argument will take precedence.\n",
      "  ax.plot(x, y, fmt, **plot_style)\n"
     ]
    },
    {
     "data": {
      "image/png": "[encoded data removed]",
      "text/plain": [
       "<Figure size 1440x360 with 2 Axes>"
      ]
     },
     "metadata": {
      "needs_background": "light"
     },
     "output_type": "display_data"
    }
   ],
   "source": [
    "normality(model2, df.target)"
   ]
  },
  {
   "cell_type": "markdown",
   "id": "3ab50dce-385c-49f1-9725-085378889df0",
   "metadata": {
    "index": 69,
    "solution": false
   },
   "source": [
    "### Define a function to plot equal_variance"
   ]
  },
  {
   "cell_type": "code",
   "execution_count": 23,
   "id": "6f667ca5-c22d-4e66-9d8b-321c430fc367",
   "metadata": {
    "execution": {
     "iopub.execute_input": "2021-10-12T19:29:56.357859Z",
     "iopub.status.busy": "2021-10-12T19:29:56.357271Z",
     "iopub.status.idle": "2021-10-12T19:29:56.358855Z",
     "shell.execute_reply": "2021-10-12T19:29:56.359482Z"
    },
    "index": 71,
    "solution": true
   },
   "outputs": [],
   "source": [
    "def equal_var(model, target):\n",
    "    # Generate model predictions\n",
    "    preds = model.predict()\n",
    "    # Calculate error\n",
    "    residuals = preds - target\n",
    "    # Initialize a matplotlib subplot\n",
    "    fig, ax = plt.subplots(figsize=(15,6))\n",
    "    # Plot scatter plot of predictions vs error\n",
    "    ax.scatter(preds, residuals, alpha=0.5)\n",
    "    # Plot a horizontal line set at 0\n",
    "    ax.plot(preds, [0 for i in range(len(df))])\n",
    "    # Set the x and y axis labels\n",
    "    ax.set_xlabel(\"Predicted Value\")\n",
    "    ax.set_ylabel(\"Predicted Value - Actual\");"
   ]
  },
  {
   "cell_type": "code",
   "execution_count": 24,
   "id": "865ad0e9-9e06-4f11-ae32-e79266691dba",
   "metadata": {
    "execution": {
     "iopub.execute_input": "2021-10-12T19:29:56.400352Z",
     "iopub.status.busy": "2021-10-12T19:29:56.392534Z",
     "iopub.status.idle": "2021-10-12T19:29:56.476880Z",
     "shell.execute_reply": "2021-10-12T19:29:56.477286Z"
    },
    "index": 73,
    "solution": true
   },
   "outputs": [
    {
     "data": {
      "image/png": "[encoded data removed]",
      "text/plain": [
       "<Figure size 1080x432 with 1 Axes>"
      ]
     },
     "metadata": {
      "needs_background": "light"
     },
     "output_type": "display_data"
    }
   ],
   "source": [
    "equal_var(model2, df.target)"
   ]
  },
  {
   "cell_type": "markdown",
   "id": "c9a88549-941b-4ffb-bad9-16229e6397f1",
   "metadata": {
    "index": 74,
    "solution": false
   },
   "source": [
    "### Multicolinearity "
   ]
  },
  {
   "cell_type": "code",
   "execution_count": 25,
   "id": "f0d9abf3-037f-47a3-8523-282c51e685dd",
   "metadata": {
    "execution": {
     "iopub.execute_input": "2021-10-12T19:29:56.481555Z",
     "iopub.status.busy": "2021-10-12T19:29:56.480969Z",
     "iopub.status.idle": "2021-10-12T19:29:56.490113Z",
     "shell.execute_reply": "2021-10-12T19:29:56.490530Z"
    },
    "index": 76,
    "solution": true
   },
   "outputs": [
    {
     "data": {
      "text/html": [
       "<div>\n",
       "<style scoped>\n",
       "    .dataframe tbody tr th:only-of-type {\n",
       "        vertical-align: middle;\n",
       "    }\n",
       "\n",
       "    .dataframe tbody tr th {\n",
       "        vertical-align: top;\n",
       "    }\n",
       "\n",
       "    .dataframe thead th {\n",
       "        text-align: right;\n",
       "    }\n",
       "</style>\n",
       "<table border=\"1\" class=\"dataframe\">\n",
       "  <thead>\n",
       "    <tr style=\"text-align: right;\">\n",
       "      <th></th>\n",
       "      <th>VIF</th>\n",
       "      <th>feature</th>\n",
       "    </tr>\n",
       "  </thead>\n",
       "  <tbody>\n",
       "    <tr>\n",
       "      <th>0</th>\n",
       "      <td>1.18533</td>\n",
       "      <td>bmi</td>\n",
       "    </tr>\n",
       "    <tr>\n",
       "      <th>1</th>\n",
       "      <td>1.18533</td>\n",
       "      <td>bp</td>\n",
       "    </tr>\n",
       "  </tbody>\n",
       "</table>\n",
       "</div>"
      ],
      "text/plain": [
       "       VIF feature\n",
       "0  1.18533     bmi\n",
       "1  1.18533      bp"
      ]
     },
     "execution_count": 25,
     "metadata": {},
     "output_type": "execute_result"
    }
   ],
   "source": [
    "from statsmodels.stats.outliers_influence import variance_inflation_factor\n",
    "\n",
    "rows = df[[\"bmi\", \"bp\"]].values\n",
    "\n",
    "vif_df = pd.DataFrame()\n",
    "vif_df[\"VIF\"] = [variance_inflation_factor(rows, i) for i in range(2)]\n",
    "vif_df[\"feature\"] = [\"bmi\", \"bp\"]\n",
    "\n",
    "vif_df"
   ]
  },
  {
   "cell_type": "markdown",
   "id": "52196bbd-4718-45c7-a0ee-8b4aaf2b206e",
   "metadata": {
    "index": 77,
    "solution": false
   },
   "source": [
    "### Multi-colinearity Function"
   ]
  },
  {
   "cell_type": "code",
   "execution_count": 26,
   "id": "1efb5088-a0bf-4790-8c1e-2d552666ceeb",
   "metadata": {
    "execution": {
     "iopub.execute_input": "2021-10-12T19:29:56.494927Z",
     "iopub.status.busy": "2021-10-12T19:29:56.494360Z",
     "iopub.status.idle": "2021-10-12T19:29:56.496247Z",
     "shell.execute_reply": "2021-10-12T19:29:56.496727Z"
    },
    "index": 79,
    "solution": true
   },
   "outputs": [],
   "source": [
    "def vif(features_df):\n",
    "    rows = features_df.values\n",
    "    vif_df = pd.DataFrame()\n",
    "    vif_df[\"VIF\"] = [variance_inflation_factor(rows, i) for i in range(features_df.shape[1])]\n",
    "    vif_df[\"feature\"] = features_df.columns\n",
    "    return vif_df"
   ]
  },
  {
   "cell_type": "code",
   "execution_count": 27,
   "id": "ccc06fd9-35f4-4c48-920c-f41cbabff3e8",
   "metadata": {
    "execution": {
     "iopub.execute_input": "2021-10-12T19:29:56.504902Z",
     "iopub.status.busy": "2021-10-12T19:29:56.501823Z",
     "iopub.status.idle": "2021-10-12T19:29:56.507263Z",
     "shell.execute_reply": "2021-10-12T19:29:56.507672Z"
    },
    "index": 81,
    "solution": true
   },
   "outputs": [
    {
     "data": {
      "text/html": [
       "<div>\n",
       "<style scoped>\n",
       "    .dataframe tbody tr th:only-of-type {\n",
       "        vertical-align: middle;\n",
       "    }\n",
       "\n",
       "    .dataframe tbody tr th {\n",
       "        vertical-align: top;\n",
       "    }\n",
       "\n",
       "    .dataframe thead th {\n",
       "        text-align: right;\n",
       "    }\n",
       "</style>\n",
       "<table border=\"1\" class=\"dataframe\">\n",
       "  <thead>\n",
       "    <tr style=\"text-align: right;\">\n",
       "      <th></th>\n",
       "      <th>VIF</th>\n",
       "      <th>feature</th>\n",
       "    </tr>\n",
       "  </thead>\n",
       "  <tbody>\n",
       "    <tr>\n",
       "      <th>0</th>\n",
       "      <td>1.18533</td>\n",
       "      <td>bmi</td>\n",
       "    </tr>\n",
       "    <tr>\n",
       "      <th>1</th>\n",
       "      <td>1.18533</td>\n",
       "      <td>bp</td>\n",
       "    </tr>\n",
       "  </tbody>\n",
       "</table>\n",
       "</div>"
      ],
      "text/plain": [
       "       VIF feature\n",
       "0  1.18533     bmi\n",
       "1  1.18533      bp"
      ]
     },
     "execution_count": 27,
     "metadata": {},
     "output_type": "execute_result"
    }
   ],
   "source": [
    "vif(df[['bmi', 'bp']])"
   ]
  }
 ],
 "metadata": {
  "kernelspec": {
   "display_name": "Python 3 (ipykernel)",
   "language": "python",
   "name": "python3"
  },
  "language_info": {
   "codemirror_mode": {
    "name": "ipython",
    "version": 3
   },
   "file_extension": ".py",
   "mimetype": "text/x-python",
   "name": "python",
   "nbconvert_exporter": "python",
   "pygments_lexer": "ipython3",
   "version": "3.9.5"
  },
  "widgets": {
   "application/vnd.jupyter.widget-state+json": {
    "state": {
     "097a7674184243fb860cf63e9b07ed27": {
      "model_module": "@jupyter-widgets/controls",
      "model_module_version": "1.5.0",
      "model_name": "CheckboxModel",
      "state": {
       "_dom_classes": [],
       "_model_module": "@jupyter-widgets/controls",
       "_model_module_version": "1.5.0",
       "_model_name": "CheckboxModel",
       "_view_count": null,
       "_view_module": "@jupyter-widgets/controls",
       "_view_module_version": "1.5.0",
       "_view_name": "CheckboxView",
       "description": "bp",
       "description_tooltip": null,
       "disabled": false,
       "indent": true,
       "layout": "IPY_MODEL_cc2f419e5b934368a1d05cc00a9dc09b",
       "style": "IPY_MODEL_781e5669aac7484f8449269bc41de898",
       "value": false
      }
     },
     "0a2cd7ed48144428af62d20219ca4143": {
      "model_module": "@jupyter-widgets/controls",
      "model_module_version": "1.5.0",
      "model_name": "RadioButtonsModel",
      "state": {
       "_dom_classes": [],
       "_model_module": "@jupyter-widgets/controls",
       "_model_module_version": "1.5.0",
       "_model_name": "RadioButtonsModel",
       "_options_labels": [
        "The slope tells us that the average bmi is 949.",
        "The slope tells us that when bmi is 949, the average of `target` is  152.",
        "The slope tells us that a 1 unit change in `bmi` results in an average increase of 949 in `target`.",
        "The slope tells us that a 1 unit change in `bmi` results in an average increase of 152 in `target`."
       ],
       "_view_count": null,
       "_view_module": "@jupyter-widgets/controls",
       "_view_module_version": "1.5.0",
       "_view_name": "RadioButtonsView",
       "description": "",
       "description_tooltip": null,
       "disabled": false,
       "index": null,
       "layout": "IPY_MODEL_c724683d6c294e5eba1577a687cdbbf4",
       "style": "IPY_MODEL_0f481bdf2548482ca5a43df1cab381c4"
      }
     },
     "0bcb741109d54b49a61fa07ad63e7343": {
      "model_module": "@jupyter-widgets/controls",
      "model_module_version": "1.5.0",
      "model_name": "CheckboxModel",
      "state": {
       "_dom_classes": [],
       "_model_module": "@jupyter-widgets/controls",
       "_model_module_version": "1.5.0",
       "_model_name": "CheckboxModel",
       "_view_count": null,
       "_view_module": "@jupyter-widgets/controls",
       "_view_module_version": "1.5.0",
       "_view_name": "CheckboxView",
       "description": "bmi",
       "description_tooltip": null,
       "disabled": false,
       "indent": true,
       "layout": "IPY_MODEL_cc2f419e5b934368a1d05cc00a9dc09b",
       "style": "IPY_MODEL_26d3b4a2d2214100a813d9cc5a61223c",
       "value": false
      }
     },
     "0f481bdf2548482ca5a43df1cab381c4": {
      "model_module": "@jupyter-widgets/controls",
      "model_module_version": "1.5.0",
      "model_name": "DescriptionStyleModel",
      "state": {
       "_model_module": "@jupyter-widgets/controls",
       "_model_module_version": "1.5.0",
       "_model_name": "DescriptionStyleModel",
       "_view_count": null,
       "_view_module": "@jupyter-widgets/base",
       "_view_module_version": "1.2.0",
       "_view_name": "StyleView",
       "description_width": ""
      }
     },
     "1a4f1e0be4dc4a5d811d5b63ff8f93b4": {
      "model_module": "@jupyter-widgets/controls",
      "model_module_version": "1.5.0",
      "model_name": "VBoxModel",
      "state": {
       "_dom_classes": [],
       "_model_module": "@jupyter-widgets/controls",
       "_model_module_version": "1.5.0",
       "_model_name": "VBoxModel",
       "_view_count": null,
       "_view_module": "@jupyter-widgets/controls",
       "_view_module_version": "1.5.0",
       "_view_name": "VBoxView",
       "box_style": "",
       "children": [
        "IPY_MODEL_519dd93bbfbd48798d09261d4915d40e",
        "IPY_MODEL_4b9d86c8a8f9471d9f1670a9f6f70010",
        "IPY_MODEL_5aa0096237d64e2ca91db54974d0bfb6",
        "IPY_MODEL_9cf88457d3b742b08f2cef780bf27f92"
       ],
       "layout": "IPY_MODEL_28c59118bb1642f887c6fc086a1e4e7b"
      }
     },
     "26d3b4a2d2214100a813d9cc5a61223c": {
      "model_module": "@jupyter-widgets/controls",
      "model_module_version": "1.5.0",
      "model_name": "DescriptionStyleModel",
      "state": {
       "_model_module": "@jupyter-widgets/controls",
       "_model_module_version": "1.5.0",
       "_model_name": "DescriptionStyleModel",
       "_view_count": null,
       "_view_module": "@jupyter-widgets/base",
       "_view_module_version": "1.2.0",
       "_view_name": "StyleView",
       "description_width": ""
      }
     },
     "28c59118bb1642f887c6fc086a1e4e7b": {
      "model_module": "@jupyter-widgets/base",
      "model_module_version": "1.2.0",
      "model_name": "LayoutModel",
      "state": {
       "_model_module": "@jupyter-widgets/base",
       "_model_module_version": "1.2.0",
       "_model_name": "LayoutModel",
       "_view_count": null,
       "_view_module": "@jupyter-widgets/base",
       "_view_module_version": "1.2.0",
       "_view_name": "LayoutView",
       "align_content": null,
       "align_items": "stretch",
       "align_self": null,
       "border": "solid",
       "bottom": null,
       "display": "flex",
       "flex": null,
       "flex_flow": "column",
       "grid_area": null,
       "grid_auto_columns": null,
       "grid_auto_flow": null,
       "grid_auto_rows": null,
       "grid_column": null,
       "grid_gap": null,
       "grid_row": null,
       "grid_template_areas": null,
       "grid_template_columns": null,
       "grid_template_rows": null,
       "height": null,
       "justify_content": null,
       "justify_items": null,
       "left": null,
       "margin": null,
       "max_height": null,
       "max_width": null,
       "min_height": null,
       "min_width": null,
       "object_fit": null,
       "object_position": null,
       "order": null,
       "overflow": null,
       "overflow_x": null,
       "overflow_y": null,
       "padding": null,
       "right": null,
       "top": null,
       "visibility": null,
       "width": "100%"
      }
     },
     "313411eb54374646b59dd88b3965cd02": {
      "model_module": "@jupyter-widgets/base",
      "model_module_version": "1.2.0",
      "model_name": "LayoutModel",
      "state": {
       "_model_module": "@jupyter-widgets/base",
       "_model_module_version": "1.2.0",
       "_model_name": "LayoutModel",
       "_view_count": null,
       "_view_module": "@jupyter-widgets/base",
       "_view_module_version": "1.2.0",
       "_view_name": "LayoutView",
       "align_content": null,
       "align_items": null,
       "align_self": null,
       "border": null,
       "bottom": null,
       "display": null,
       "flex": null,
       "flex_flow": null,
       "grid_area": null,
       "grid_auto_columns": null,
       "grid_auto_flow": null,
       "grid_auto_rows": null,
       "grid_column": null,
       "grid_gap": null,
       "grid_row": null,
       "grid_template_areas": null,
       "grid_template_columns": null,
       "grid_template_rows": null,
       "height": null,
       "justify_content": null,
       "justify_items": null,
       "left": null,
       "margin": null,
       "max_height": null,
       "max_width": null,
       "min_height": null,
       "min_width": null,
       "object_fit": null,
       "object_position": null,
       "order": null,
       "overflow": null,
       "overflow_x": null,
       "overflow_y": null,
       "padding": null,
       "right": null,
       "top": null,
       "visibility": null,
       "width": null
      }
     },
     "355dee8c72c141b4b506991547269694": {
      "model_module": "@jupyter-widgets/output",
      "model_module_version": "1.0.0",
      "model_name": "OutputModel",
      "state": {
       "_dom_classes": [],
       "_model_module": "@jupyter-widgets/output",
       "_model_module_version": "1.0.0",
       "_model_name": "OutputModel",
       "_view_count": null,
       "_view_module": "@jupyter-widgets/output",
       "_view_module_version": "1.0.0",
       "_view_name": "OutputView",
       "layout": "IPY_MODEL_68bb7dd4733744de884d5128fe142205",
       "msg_id": "",
       "outputs": [
        {
         "data": {
          "text/markdown": "### Our independent variable is called `target`. True or False?",
          "text/plain": "<IPython.core.display.Markdown object>"
         },
         "metadata": {},
         "output_type": "display_data"
        }
       ]
      }
     },
     "364afb0e26564d7e964d34635a98308f": {
      "model_module": "@jupyter-widgets/base",
      "model_module_version": "1.2.0",
      "model_name": "LayoutModel",
      "state": {
       "_model_module": "@jupyter-widgets/base",
       "_model_module_version": "1.2.0",
       "_model_name": "LayoutModel",
       "_view_count": null,
       "_view_module": "@jupyter-widgets/base",
       "_view_module_version": "1.2.0",
       "_view_name": "LayoutView",
       "align_content": null,
       "align_items": null,
       "align_self": null,
       "border": null,
       "bottom": null,
       "display": null,
       "flex": null,
       "flex_flow": null,
       "grid_area": null,
       "grid_auto_columns": null,
       "grid_auto_flow": null,
       "grid_auto_rows": null,
       "grid_column": null,
       "grid_gap": null,
       "grid_row": null,
       "grid_template_areas": null,
       "grid_template_columns": null,
       "grid_template_rows": null,
       "height": null,
       "justify_content": null,
       "justify_items": null,
       "left": null,
       "margin": null,
       "max_height": null,
       "max_width": null,
       "min_height": null,
       "min_width": null,
       "object_fit": null,
       "object_position": null,
       "order": null,
       "overflow": null,
       "overflow_x": null,
       "overflow_y": null,
       "padding": null,
       "right": null,
       "top": null,
       "visibility": null,
       "width": null
      }
     },
     "3eb938535c8544c7aeb9b06b4e4a867f": {
      "model_module": "@jupyter-widgets/base",
      "model_module_version": "1.2.0",
      "model_name": "LayoutModel",
      "state": {
       "_model_module": "@jupyter-widgets/base",
       "_model_module_version": "1.2.0",
       "_model_name": "LayoutModel",
       "_view_count": null,
       "_view_module": "@jupyter-widgets/base",
       "_view_module_version": "1.2.0",
       "_view_name": "LayoutView",
       "align_content": null,
       "align_items": null,
       "align_self": null,
       "border": null,
       "bottom": null,
       "display": null,
       "flex": null,
       "flex_flow": null,
       "grid_area": null,
       "grid_auto_columns": null,
       "grid_auto_flow": null,
       "grid_auto_rows": null,
       "grid_column": null,
       "grid_gap": null,
       "grid_row": null,
       "grid_template_areas": null,
       "grid_template_columns": null,
       "grid_template_rows": null,
       "height": null,
       "justify_content": null,
       "justify_items": null,
       "left": null,
       "margin": null,
       "max_height": null,
       "max_width": null,
       "min_height": null,
       "min_width": null,
       "object_fit": null,
       "object_position": null,
       "order": null,
       "overflow": null,
       "overflow_x": null,
       "overflow_y": null,
       "padding": null,
       "right": null,
       "top": null,
       "visibility": null,
       "width": null
      }
     },
     "3ef0d76cf9e142c48bc01f8d68f68375": {
      "model_module": "@jupyter-widgets/controls",
      "model_module_version": "1.5.0",
      "model_name": "ButtonModel",
      "state": {
       "_dom_classes": [],
       "_model_module": "@jupyter-widgets/controls",
       "_model_module_version": "1.5.0",
       "_model_name": "ButtonModel",
       "_view_count": null,
       "_view_module": "@jupyter-widgets/controls",
       "_view_module_version": "1.5.0",
       "_view_name": "ButtonView",
       "button_style": "",
       "description": "submit",
       "disabled": false,
       "icon": "",
       "layout": "IPY_MODEL_313411eb54374646b59dd88b3965cd02",
       "style": "IPY_MODEL_505bbe6cf030446881a15995e43d72f8",
       "tooltip": ""
      }
     },
     "439bc427bea0438d8341e927bbb4c4ca": {
      "model_module": "@jupyter-widgets/controls",
      "model_module_version": "1.5.0",
      "model_name": "ButtonStyleModel",
      "state": {
       "_model_module": "@jupyter-widgets/controls",
       "_model_module_version": "1.5.0",
       "_model_name": "ButtonStyleModel",
       "_view_count": null,
       "_view_module": "@jupyter-widgets/base",
       "_view_module_version": "1.2.0",
       "_view_name": "StyleView",
       "button_color": null,
       "font_weight": ""
      }
     },
     "4556506315404299a452f1db49cd0d61": {
      "model_module": "@jupyter-widgets/controls",
      "model_module_version": "1.5.0",
      "model_name": "ButtonModel",
      "state": {
       "_dom_classes": [],
       "_model_module": "@jupyter-widgets/controls",
       "_model_module_version": "1.5.0",
       "_model_name": "ButtonModel",
       "_view_count": null,
       "_view_module": "@jupyter-widgets/controls",
       "_view_module_version": "1.5.0",
       "_view_name": "ButtonView",
       "button_style": "",
       "description": "submit",
       "disabled": false,
       "icon": "",
       "layout": "IPY_MODEL_9f5faf99db1f402cbe8b8a00f8a44c3b",
       "style": "IPY_MODEL_47fd63d43c2446dc857c1366421317af",
       "tooltip": ""
      }
     },
     "47fd63d43c2446dc857c1366421317af": {
      "model_module": "@jupyter-widgets/controls",
      "model_module_version": "1.5.0",
      "model_name": "ButtonStyleModel",
      "state": {
       "_model_module": "@jupyter-widgets/controls",
       "_model_module_version": "1.5.0",
       "_model_name": "ButtonStyleModel",
       "_view_count": null,
       "_view_module": "@jupyter-widgets/base",
       "_view_module_version": "1.2.0",
       "_view_name": "StyleView",
       "button_color": null,
       "font_weight": ""
      }
     },
     "4b9d86c8a8f9471d9f1670a9f6f70010": {
      "model_module": "@jupyter-widgets/controls",
      "model_module_version": "1.5.0",
      "model_name": "RadioButtonsModel",
      "state": {
       "_dom_classes": [],
       "_model_module": "@jupyter-widgets/controls",
       "_model_module_version": "1.5.0",
       "_model_name": "RadioButtonsModel",
       "_options_labels": [
        "The intercept tells us that the true average for `target` is about 152.",
        "The intercept tells us that 152 is the highest value `target` can have.",
        "The intercept tells us that with a one unit change in the intercept, `target` will change by 152 units on average.",
        "The intercept tells us that the average for `target` when bmi is 0, is 152."
       ],
       "_view_count": null,
       "_view_module": "@jupyter-widgets/controls",
       "_view_module_version": "1.5.0",
       "_view_name": "RadioButtonsView",
       "description": "",
       "description_tooltip": null,
       "disabled": false,
       "index": null,
       "layout": "IPY_MODEL_8fea88b8c4f44356bfa8b7e3d09916f3",
       "style": "IPY_MODEL_6b348e4ef2ca4d0384c7003b48a8dd0c"
      }
     },
     "505bbe6cf030446881a15995e43d72f8": {
      "model_module": "@jupyter-widgets/controls",
      "model_module_version": "1.5.0",
      "model_name": "ButtonStyleModel",
      "state": {
       "_model_module": "@jupyter-widgets/controls",
       "_model_module_version": "1.5.0",
       "_model_name": "ButtonStyleModel",
       "_view_count": null,
       "_view_module": "@jupyter-widgets/base",
       "_view_module_version": "1.2.0",
       "_view_name": "StyleView",
       "button_color": null,
       "font_weight": ""
      }
     },
     "5129e8cb59d64866a1074a45f5d860f1": {
      "model_module": "@jupyter-widgets/base",
      "model_module_version": "1.2.0",
      "model_name": "LayoutModel",
      "state": {
       "_model_module": "@jupyter-widgets/base",
       "_model_module_version": "1.2.0",
       "_model_name": "LayoutModel",
       "_view_count": null,
       "_view_module": "@jupyter-widgets/base",
       "_view_module_version": "1.2.0",
       "_view_name": "LayoutView",
       "align_content": null,
       "align_items": "stretch",
       "align_self": null,
       "border": "solid",
       "bottom": null,
       "display": "flex",
       "flex": null,
       "flex_flow": "column",
       "grid_area": null,
       "grid_auto_columns": null,
       "grid_auto_flow": null,
       "grid_auto_rows": null,
       "grid_column": null,
       "grid_gap": null,
       "grid_row": null,
       "grid_template_areas": null,
       "grid_template_columns": null,
       "grid_template_rows": null,
       "height": null,
       "justify_content": null,
       "justify_items": null,
       "left": null,
       "margin": null,
       "max_height": null,
       "max_width": null,
       "min_height": null,
       "min_width": null,
       "object_fit": null,
       "object_position": null,
       "order": null,
       "overflow": null,
       "overflow_x": null,
       "overflow_y": null,
       "padding": null,
       "right": null,
       "top": null,
       "visibility": null,
       "width": "100%"
      }
     },
     "513be9dcda8440128905ee23d571b3b1": {
      "model_module": "@jupyter-widgets/base",
      "model_module_version": "1.2.0",
      "model_name": "LayoutModel",
      "state": {
       "_model_module": "@jupyter-widgets/base",
       "_model_module_version": "1.2.0",
       "_model_name": "LayoutModel",
       "_view_count": null,
       "_view_module": "@jupyter-widgets/base",
       "_view_module_version": "1.2.0",
       "_view_name": "LayoutView",
       "align_content": null,
       "align_items": null,
       "align_self": null,
       "border": null,
       "bottom": null,
       "display": null,
       "flex": null,
       "flex_flow": null,
       "grid_area": null,
       "grid_auto_columns": null,
       "grid_auto_flow": null,
       "grid_auto_rows": null,
       "grid_column": null,
       "grid_gap": null,
       "grid_row": null,
       "grid_template_areas": null,
       "grid_template_columns": null,
       "grid_template_rows": null,
       "height": null,
       "justify_content": null,
       "justify_items": null,
       "left": null,
       "margin": null,
       "max_height": null,
       "max_width": null,
       "min_height": null,
       "min_width": null,
       "object_fit": null,
       "object_position": null,
       "order": null,
       "overflow": null,
       "overflow_x": null,
       "overflow_y": null,
       "padding": null,
       "right": null,
       "top": null,
       "visibility": null,
       "width": null
      }
     },
     "519dd93bbfbd48798d09261d4915d40e": {
      "model_module": "@jupyter-widgets/output",
      "model_module_version": "1.0.0",
      "model_name": "OutputModel",
      "state": {
       "_dom_classes": [],
       "_model_module": "@jupyter-widgets/output",
       "_model_module_version": "1.0.0",
       "_model_name": "OutputModel",
       "_view_count": null,
       "_view_module": "@jupyter-widgets/output",
       "_view_module_version": "1.0.0",
       "_view_name": "OutputView",
       "layout": "IPY_MODEL_364afb0e26564d7e964d34635a98308f",
       "msg_id": "",
       "outputs": [
        {
         "data": {
          "text/markdown": "### Please select the sentence that best interprets the intercept term.",
          "text/plain": "<IPython.core.display.Markdown object>"
         },
         "metadata": {},
         "output_type": "display_data"
        }
       ]
      }
     },
     "525c2de5b77d472e9b7e9660cbd9694f": {
      "model_module": "@jupyter-widgets/base",
      "model_module_version": "1.2.0",
      "model_name": "LayoutModel",
      "state": {
       "_model_module": "@jupyter-widgets/base",
       "_model_module_version": "1.2.0",
       "_model_name": "LayoutModel",
       "_view_count": null,
       "_view_module": "@jupyter-widgets/base",
       "_view_module_version": "1.2.0",
       "_view_name": "LayoutView",
       "align_content": null,
       "align_items": "stretch",
       "align_self": null,
       "border": "solid",
       "bottom": null,
       "display": "flex",
       "flex": null,
       "flex_flow": "column",
       "grid_area": null,
       "grid_auto_columns": null,
       "grid_auto_flow": null,
       "grid_auto_rows": null,
       "grid_column": null,
       "grid_gap": null,
       "grid_row": null,
       "grid_template_areas": null,
       "grid_template_columns": null,
       "grid_template_rows": null,
       "height": null,
       "justify_content": null,
       "justify_items": null,
       "left": null,
       "margin": null,
       "max_height": null,
       "max_width": null,
       "min_height": null,
       "min_width": null,
       "object_fit": null,
       "object_position": null,
       "order": null,
       "overflow": null,
       "overflow_x": null,
       "overflow_y": null,
       "padding": null,
       "right": null,
       "top": null,
       "visibility": null,
       "width": "100%"
      }
     },
     "5aa0096237d64e2ca91db54974d0bfb6": {
      "model_module": "@jupyter-widgets/controls",
      "model_module_version": "1.5.0",
      "model_name": "ButtonModel",
      "state": {
       "_dom_classes": [],
       "_model_module": "@jupyter-widgets/controls",
       "_model_module_version": "1.5.0",
       "_model_name": "ButtonModel",
       "_view_count": null,
       "_view_module": "@jupyter-widgets/controls",
       "_view_module_version": "1.5.0",
       "_view_name": "ButtonView",
       "button_style": "",
       "description": "submit",
       "disabled": false,
       "icon": "",
       "layout": "IPY_MODEL_8a90610d65724c6685908df5c661a7ea",
       "style": "IPY_MODEL_439bc427bea0438d8341e927bbb4c4ca",
       "tooltip": ""
      }
     },
     "61995f6a5146480cb7852a8289e06c86": {
      "model_module": "@jupyter-widgets/controls",
      "model_module_version": "1.5.0",
      "model_name": "DescriptionStyleModel",
      "state": {
       "_model_module": "@jupyter-widgets/controls",
       "_model_module_version": "1.5.0",
       "_model_name": "DescriptionStyleModel",
       "_view_count": null,
       "_view_module": "@jupyter-widgets/base",
       "_view_module_version": "1.2.0",
       "_view_name": "StyleView",
       "description_width": ""
      }
     },
     "68bb7dd4733744de884d5128fe142205": {
      "model_module": "@jupyter-widgets/base",
      "model_module_version": "1.2.0",
      "model_name": "LayoutModel",
      "state": {
       "_model_module": "@jupyter-widgets/base",
       "_model_module_version": "1.2.0",
       "_model_name": "LayoutModel",
       "_view_count": null,
       "_view_module": "@jupyter-widgets/base",
       "_view_module_version": "1.2.0",
       "_view_name": "LayoutView",
       "align_content": null,
       "align_items": null,
       "align_self": null,
       "border": null,
       "bottom": null,
       "display": null,
       "flex": null,
       "flex_flow": null,
       "grid_area": null,
       "grid_auto_columns": null,
       "grid_auto_flow": null,
       "grid_auto_rows": null,
       "grid_column": null,
       "grid_gap": null,
       "grid_row": null,
       "grid_template_areas": null,
       "grid_template_columns": null,
       "grid_template_rows": null,
       "height": null,
       "justify_content": null,
       "justify_items": null,
       "left": null,
       "margin": null,
       "max_height": null,
       "max_width": null,
       "min_height": null,
       "min_width": null,
       "object_fit": null,
       "object_position": null,
       "order": null,
       "overflow": null,
       "overflow_x": null,
       "overflow_y": null,
       "padding": null,
       "right": null,
       "top": null,
       "visibility": null,
       "width": null
      }
     },
     "69f358d78de240718f1934fac37d747c": {
      "model_module": "@jupyter-widgets/controls",
      "model_module_version": "1.5.0",
      "model_name": "VBoxModel",
      "state": {
       "_dom_classes": [],
       "_model_module": "@jupyter-widgets/controls",
       "_model_module_version": "1.5.0",
       "_model_name": "VBoxModel",
       "_view_count": null,
       "_view_module": "@jupyter-widgets/controls",
       "_view_module_version": "1.5.0",
       "_view_name": "VBoxView",
       "box_style": "",
       "children": [
        "IPY_MODEL_a2c16e64a30a4256bbc993b47d463965",
        "IPY_MODEL_ab3b11f58bc940e492b3621119008841",
        "IPY_MODEL_4556506315404299a452f1db49cd0d61",
        "IPY_MODEL_cbf6b3d8b82148d794c959e05c8e809a"
       ],
       "layout": "IPY_MODEL_7d72c81218be42b8b4ff73f4aea28119"
      }
     },
     "6b348e4ef2ca4d0384c7003b48a8dd0c": {
      "model_module": "@jupyter-widgets/controls",
      "model_module_version": "1.5.0",
      "model_name": "DescriptionStyleModel",
      "state": {
       "_model_module": "@jupyter-widgets/controls",
       "_model_module_version": "1.5.0",
       "_model_name": "DescriptionStyleModel",
       "_view_count": null,
       "_view_module": "@jupyter-widgets/base",
       "_view_module_version": "1.2.0",
       "_view_name": "StyleView",
       "description_width": ""
      }
     },
     "6c774faf1a914505852fb3fc962bf527": {
      "model_module": "@jupyter-widgets/base",
      "model_module_version": "1.2.0",
      "model_name": "LayoutModel",
      "state": {
       "_model_module": "@jupyter-widgets/base",
       "_model_module_version": "1.2.0",
       "_model_name": "LayoutModel",
       "_view_count": null,
       "_view_module": "@jupyter-widgets/base",
       "_view_module_version": "1.2.0",
       "_view_name": "LayoutView",
       "align_content": null,
       "align_items": null,
       "align_self": null,
       "border": null,
       "bottom": null,
       "display": null,
       "flex": null,
       "flex_flow": null,
       "grid_area": null,
       "grid_auto_columns": null,
       "grid_auto_flow": null,
       "grid_auto_rows": null,
       "grid_column": null,
       "grid_gap": null,
       "grid_row": null,
       "grid_template_areas": null,
       "grid_template_columns": null,
       "grid_template_rows": null,
       "height": null,
       "justify_content": null,
       "justify_items": null,
       "left": null,
       "margin": null,
       "max_height": null,
       "max_width": null,
       "min_height": null,
       "min_width": null,
       "object_fit": null,
       "object_position": null,
       "order": null,
       "overflow": null,
       "overflow_x": null,
       "overflow_y": null,
       "padding": null,
       "right": null,
       "top": null,
       "visibility": null,
       "width": null
      }
     },
     "6fc688655147464e9a7fd04dce522847": {
      "model_module": "@jupyter-widgets/output",
      "model_module_version": "1.0.0",
      "model_name": "OutputModel",
      "state": {
       "_dom_classes": [],
       "_model_module": "@jupyter-widgets/output",
       "_model_module_version": "1.0.0",
       "_model_name": "OutputModel",
       "_view_count": null,
       "_view_module": "@jupyter-widgets/output",
       "_view_module_version": "1.0.0",
       "_view_name": "OutputView",
       "layout": "IPY_MODEL_72e219d7f31e4ccabd3dd4c412db89f0",
       "msg_id": "",
       "outputs": [
        {
         "data": {
          "text/markdown": "### Please select all features that have a `strong` correlation.",
          "text/plain": "<IPython.core.display.Markdown object>"
         },
         "metadata": {},
         "output_type": "display_data"
        }
       ]
      }
     },
     "72e219d7f31e4ccabd3dd4c412db89f0": {
      "model_module": "@jupyter-widgets/base",
      "model_module_version": "1.2.0",
      "model_name": "LayoutModel",
      "state": {
       "_model_module": "@jupyter-widgets/base",
       "_model_module_version": "1.2.0",
       "_model_name": "LayoutModel",
       "_view_count": null,
       "_view_module": "@jupyter-widgets/base",
       "_view_module_version": "1.2.0",
       "_view_name": "LayoutView",
       "align_content": null,
       "align_items": null,
       "align_self": null,
       "border": null,
       "bottom": null,
       "display": null,
       "flex": null,
       "flex_flow": null,
       "grid_area": null,
       "grid_auto_columns": null,
       "grid_auto_flow": null,
       "grid_auto_rows": null,
       "grid_column": null,
       "grid_gap": null,
       "grid_row": null,
       "grid_template_areas": null,
       "grid_template_columns": null,
       "grid_template_rows": null,
       "height": null,
       "justify_content": null,
       "justify_items": null,
       "left": null,
       "margin": null,
       "max_height": null,
       "max_width": null,
       "min_height": null,
       "min_width": null,
       "object_fit": null,
       "object_position": null,
       "order": null,
       "overflow": null,
       "overflow_x": null,
       "overflow_y": null,
       "padding": null,
       "right": null,
       "top": null,
       "visibility": null,
       "width": null
      }
     },
     "781e5669aac7484f8449269bc41de898": {
      "model_module": "@jupyter-widgets/controls",
      "model_module_version": "1.5.0",
      "model_name": "DescriptionStyleModel",
      "state": {
       "_model_module": "@jupyter-widgets/controls",
       "_model_module_version": "1.5.0",
       "_model_name": "DescriptionStyleModel",
       "_view_count": null,
       "_view_module": "@jupyter-widgets/base",
       "_view_module_version": "1.2.0",
       "_view_name": "StyleView",
       "description_width": ""
      }
     },
     "78d67d41c943400d9eb2e50fa37fc9f4": {
      "model_module": "@jupyter-widgets/controls",
      "model_module_version": "1.5.0",
      "model_name": "ButtonStyleModel",
      "state": {
       "_model_module": "@jupyter-widgets/controls",
       "_model_module_version": "1.5.0",
       "_model_name": "ButtonStyleModel",
       "_view_count": null,
       "_view_module": "@jupyter-widgets/base",
       "_view_module_version": "1.2.0",
       "_view_name": "StyleView",
       "button_color": null,
       "font_weight": ""
      }
     },
     "7d72c81218be42b8b4ff73f4aea28119": {
      "model_module": "@jupyter-widgets/base",
      "model_module_version": "1.2.0",
      "model_name": "LayoutModel",
      "state": {
       "_model_module": "@jupyter-widgets/base",
       "_model_module_version": "1.2.0",
       "_model_name": "LayoutModel",
       "_view_count": null,
       "_view_module": "@jupyter-widgets/base",
       "_view_module_version": "1.2.0",
       "_view_name": "LayoutView",
       "align_content": null,
       "align_items": "stretch",
       "align_self": null,
       "border": "solid",
       "bottom": null,
       "display": "flex",
       "flex": null,
       "flex_flow": "column",
       "grid_area": null,
       "grid_auto_columns": null,
       "grid_auto_flow": null,
       "grid_auto_rows": null,
       "grid_column": null,
       "grid_gap": null,
       "grid_row": null,
       "grid_template_areas": null,
       "grid_template_columns": null,
       "grid_template_rows": null,
       "height": null,
       "justify_content": null,
       "justify_items": null,
       "left": null,
       "margin": null,
       "max_height": null,
       "max_width": null,
       "min_height": null,
       "min_width": null,
       "object_fit": null,
       "object_position": null,
       "order": null,
       "overflow": null,
       "overflow_x": null,
       "overflow_y": null,
       "padding": null,
       "right": null,
       "top": null,
       "visibility": null,
       "width": "100%"
      }
     },
     "7dae321d79f342308d7db14b4aa9041a": {
      "model_module": "@jupyter-widgets/controls",
      "model_module_version": "1.5.0",
      "model_name": "ButtonModel",
      "state": {
       "_dom_classes": [],
       "_model_module": "@jupyter-widgets/controls",
       "_model_module_version": "1.5.0",
       "_model_name": "ButtonModel",
       "_view_count": null,
       "_view_module": "@jupyter-widgets/controls",
       "_view_module_version": "1.5.0",
       "_view_name": "ButtonView",
       "button_style": "",
       "description": "submit",
       "disabled": false,
       "icon": "",
       "layout": "IPY_MODEL_6c774faf1a914505852fb3fc962bf527",
       "style": "IPY_MODEL_a9a0c1ad99d54751954bbe00a1f331cf",
       "tooltip": ""
      }
     },
     "83a2ec5a9ec044a9afa9ecb5bf6500ae": {
      "model_module": "@jupyter-widgets/base",
      "model_module_version": "1.2.0",
      "model_name": "LayoutModel",
      "state": {
       "_model_module": "@jupyter-widgets/base",
       "_model_module_version": "1.2.0",
       "_model_name": "LayoutModel",
       "_view_count": null,
       "_view_module": "@jupyter-widgets/base",
       "_view_module_version": "1.2.0",
       "_view_name": "LayoutView",
       "align_content": null,
       "align_items": null,
       "align_self": null,
       "border": null,
       "bottom": null,
       "display": null,
       "flex": null,
       "flex_flow": null,
       "grid_area": null,
       "grid_auto_columns": null,
       "grid_auto_flow": null,
       "grid_auto_rows": null,
       "grid_column": null,
       "grid_gap": null,
       "grid_row": null,
       "grid_template_areas": null,
       "grid_template_columns": null,
       "grid_template_rows": null,
       "height": null,
       "justify_content": null,
       "justify_items": null,
       "left": null,
       "margin": null,
       "max_height": null,
       "max_width": null,
       "min_height": null,
       "min_width": null,
       "object_fit": null,
       "object_position": null,
       "order": null,
       "overflow": null,
       "overflow_x": null,
       "overflow_y": null,
       "padding": null,
       "right": null,
       "top": null,
       "visibility": null,
       "width": null
      }
     },
     "8a90610d65724c6685908df5c661a7ea": {
      "model_module": "@jupyter-widgets/base",
      "model_module_version": "1.2.0",
      "model_name": "LayoutModel",
      "state": {
       "_model_module": "@jupyter-widgets/base",
       "_model_module_version": "1.2.0",
       "_model_name": "LayoutModel",
       "_view_count": null,
       "_view_module": "@jupyter-widgets/base",
       "_view_module_version": "1.2.0",
       "_view_name": "LayoutView",
       "align_content": null,
       "align_items": null,
       "align_self": null,
       "border": null,
       "bottom": null,
       "display": null,
       "flex": null,
       "flex_flow": null,
       "grid_area": null,
       "grid_auto_columns": null,
       "grid_auto_flow": null,
       "grid_auto_rows": null,
       "grid_column": null,
       "grid_gap": null,
       "grid_row": null,
       "grid_template_areas": null,
       "grid_template_columns": null,
       "grid_template_rows": null,
       "height": null,
       "justify_content": null,
       "justify_items": null,
       "left": null,
       "margin": null,
       "max_height": null,
       "max_width": null,
       "min_height": null,
       "min_width": null,
       "object_fit": null,
       "object_position": null,
       "order": null,
       "overflow": null,
       "overflow_x": null,
       "overflow_y": null,
       "padding": null,
       "right": null,
       "top": null,
       "visibility": null,
       "width": null
      }
     },
     "8a937324e4dc4f7182b7999cf297e6fd": {
      "model_module": "@jupyter-widgets/base",
      "model_module_version": "1.2.0",
      "model_name": "LayoutModel",
      "state": {
       "_model_module": "@jupyter-widgets/base",
       "_model_module_version": "1.2.0",
       "_model_name": "LayoutModel",
       "_view_count": null,
       "_view_module": "@jupyter-widgets/base",
       "_view_module_version": "1.2.0",
       "_view_name": "LayoutView",
       "align_content": null,
       "align_items": null,
       "align_self": null,
       "border": null,
       "bottom": null,
       "display": null,
       "flex": null,
       "flex_flow": null,
       "grid_area": null,
       "grid_auto_columns": null,
       "grid_auto_flow": null,
       "grid_auto_rows": null,
       "grid_column": null,
       "grid_gap": null,
       "grid_row": null,
       "grid_template_areas": null,
       "grid_template_columns": null,
       "grid_template_rows": null,
       "height": null,
       "justify_content": null,
       "justify_items": null,
       "left": null,
       "margin": null,
       "max_height": null,
       "max_width": null,
       "min_height": null,
       "min_width": null,
       "object_fit": null,
       "object_position": null,
       "order": null,
       "overflow": null,
       "overflow_x": null,
       "overflow_y": null,
       "padding": null,
       "right": null,
       "top": null,
       "visibility": null,
       "width": null
      }
     },
     "8fea88b8c4f44356bfa8b7e3d09916f3": {
      "model_module": "@jupyter-widgets/base",
      "model_module_version": "1.2.0",
      "model_name": "LayoutModel",
      "state": {
       "_model_module": "@jupyter-widgets/base",
       "_model_module_version": "1.2.0",
       "_model_name": "LayoutModel",
       "_view_count": null,
       "_view_module": "@jupyter-widgets/base",
       "_view_module_version": "1.2.0",
       "_view_name": "LayoutView",
       "align_content": null,
       "align_items": null,
       "align_self": null,
       "border": null,
       "bottom": null,
       "display": null,
       "flex": null,
       "flex_flow": null,
       "grid_area": null,
       "grid_auto_columns": null,
       "grid_auto_flow": null,
       "grid_auto_rows": null,
       "grid_column": null,
       "grid_gap": null,
       "grid_row": null,
       "grid_template_areas": null,
       "grid_template_columns": null,
       "grid_template_rows": null,
       "height": null,
       "justify_content": null,
       "justify_items": null,
       "left": null,
       "margin": null,
       "max_height": null,
       "max_width": null,
       "min_height": null,
       "min_width": null,
       "object_fit": null,
       "object_position": null,
       "order": null,
       "overflow": null,
       "overflow_x": null,
       "overflow_y": null,
       "padding": null,
       "right": null,
       "top": null,
       "visibility": null,
       "width": "auto"
      }
     },
     "908116bfccaa44c391b00d52cd99c022": {
      "model_module": "@jupyter-widgets/controls",
      "model_module_version": "1.5.0",
      "model_name": "VBoxModel",
      "state": {
       "_dom_classes": [],
       "_model_module": "@jupyter-widgets/controls",
       "_model_module_version": "1.5.0",
       "_model_name": "VBoxModel",
       "_view_count": null,
       "_view_module": "@jupyter-widgets/controls",
       "_view_module_version": "1.5.0",
       "_view_name": "VBoxView",
       "box_style": "",
       "children": [
        "IPY_MODEL_355dee8c72c141b4b506991547269694",
        "IPY_MODEL_a8ef2f08fe1846dbb6d818287c8e06fc",
        "IPY_MODEL_bf5ec59b0dc74a15aa13097e053c8dae",
        "IPY_MODEL_ce1f36450b2345fa98ffb104b744f880"
       ],
       "layout": "IPY_MODEL_d7ce6d89d3394350bc596c596e2b5483"
      }
     },
     "99278f5b71a341c98a16e05bc9a731b3": {
      "model_module": "@jupyter-widgets/controls",
      "model_module_version": "1.5.0",
      "model_name": "CheckboxModel",
      "state": {
       "_dom_classes": [],
       "_model_module": "@jupyter-widgets/controls",
       "_model_module_version": "1.5.0",
       "_model_name": "CheckboxModel",
       "_view_count": null,
       "_view_module": "@jupyter-widgets/controls",
       "_view_module_version": "1.5.0",
       "_view_name": "CheckboxView",
       "description": "age",
       "description_tooltip": null,
       "disabled": false,
       "indent": true,
       "layout": "IPY_MODEL_cc2f419e5b934368a1d05cc00a9dc09b",
       "style": "IPY_MODEL_61995f6a5146480cb7852a8289e06c86",
       "value": false
      }
     },
     "9cf88457d3b742b08f2cef780bf27f92": {
      "model_module": "@jupyter-widgets/output",
      "model_module_version": "1.0.0",
      "model_name": "OutputModel",
      "state": {
       "_dom_classes": [],
       "_model_module": "@jupyter-widgets/output",
       "_model_module_version": "1.0.0",
       "_model_name": "OutputModel",
       "_view_count": null,
       "_view_module": "@jupyter-widgets/output",
       "_view_module_version": "1.0.0",
       "_view_name": "OutputView",
       "layout": "IPY_MODEL_effebdebc52f4f548a05bb33b1fc8c5b",
       "msg_id": "",
       "outputs": []
      }
     },
     "9f5faf99db1f402cbe8b8a00f8a44c3b": {
      "model_module": "@jupyter-widgets/base",
      "model_module_version": "1.2.0",
      "model_name": "LayoutModel",
      "state": {
       "_model_module": "@jupyter-widgets/base",
       "_model_module_version": "1.2.0",
       "_model_name": "LayoutModel",
       "_view_count": null,
       "_view_module": "@jupyter-widgets/base",
       "_view_module_version": "1.2.0",
       "_view_name": "LayoutView",
       "align_content": null,
       "align_items": null,
       "align_self": null,
       "border": null,
       "bottom": null,
       "display": null,
       "flex": null,
       "flex_flow": null,
       "grid_area": null,
       "grid_auto_columns": null,
       "grid_auto_flow": null,
       "grid_auto_rows": null,
       "grid_column": null,
       "grid_gap": null,
       "grid_row": null,
       "grid_template_areas": null,
       "grid_template_columns": null,
       "grid_template_rows": null,
       "height": null,
       "justify_content": null,
       "justify_items": null,
       "left": null,
       "margin": null,
       "max_height": null,
       "max_width": null,
       "min_height": null,
       "min_width": null,
       "object_fit": null,
       "object_position": null,
       "order": null,
       "overflow": null,
       "overflow_x": null,
       "overflow_y": null,
       "padding": null,
       "right": null,
       "top": null,
       "visibility": null,
       "width": null
      }
     },
     "a0a316077f7040d5b6ad6b06269b24f8": {
      "model_module": "@jupyter-widgets/output",
      "model_module_version": "1.0.0",
      "model_name": "OutputModel",
      "state": {
       "_dom_classes": [],
       "_model_module": "@jupyter-widgets/output",
       "_model_module_version": "1.0.0",
       "_model_name": "OutputModel",
       "_view_count": null,
       "_view_module": "@jupyter-widgets/output",
       "_view_module_version": "1.0.0",
       "_view_name": "OutputView",
       "layout": "IPY_MODEL_8a937324e4dc4f7182b7999cf297e6fd",
       "msg_id": "",
       "outputs": []
      }
     },
     "a23e19fafb3d44c89878873b220a363b": {
      "model_module": "@jupyter-widgets/controls",
      "model_module_version": "1.5.0",
      "model_name": "VBoxModel",
      "state": {
       "_dom_classes": [],
       "_model_module": "@jupyter-widgets/controls",
       "_model_module_version": "1.5.0",
       "_model_name": "VBoxModel",
       "_view_count": null,
       "_view_module": "@jupyter-widgets/controls",
       "_view_module_version": "1.5.0",
       "_view_name": "VBoxView",
       "box_style": "",
       "children": [
        "IPY_MODEL_6fc688655147464e9a7fd04dce522847",
        "IPY_MODEL_99278f5b71a341c98a16e05bc9a731b3",
        "IPY_MODEL_f6dbdf05484a480a97d1211727b52d9e",
        "IPY_MODEL_0bcb741109d54b49a61fa07ad63e7343",
        "IPY_MODEL_097a7674184243fb860cf63e9b07ed27",
        "IPY_MODEL_7dae321d79f342308d7db14b4aa9041a",
        "IPY_MODEL_a0a316077f7040d5b6ad6b06269b24f8"
       ],
       "layout": "IPY_MODEL_5129e8cb59d64866a1074a45f5d860f1"
      }
     },
     "a2c16e64a30a4256bbc993b47d463965": {
      "model_module": "@jupyter-widgets/output",
      "model_module_version": "1.0.0",
      "model_name": "OutputModel",
      "state": {
       "_dom_classes": [],
       "_model_module": "@jupyter-widgets/output",
       "_model_module_version": "1.0.0",
       "_model_name": "OutputModel",
       "_view_count": null,
       "_view_module": "@jupyter-widgets/output",
       "_view_module_version": "1.0.0",
       "_view_name": "OutputView",
       "layout": "IPY_MODEL_c88478c4907845b8a0c8f395fffad9f5",
       "msg_id": "",
       "outputs": [
        {
         "data": {
          "text/markdown": "### Please select the independent variable most correlated with the target.",
          "text/plain": "<IPython.core.display.Markdown object>"
         },
         "metadata": {},
         "output_type": "display_data"
        }
       ]
      }
     },
     "a8ef2f08fe1846dbb6d818287c8e06fc": {
      "model_module": "@jupyter-widgets/controls",
      "model_module_version": "1.5.0",
      "model_name": "RadioButtonsModel",
      "state": {
       "_dom_classes": [],
       "_model_module": "@jupyter-widgets/controls",
       "_model_module_version": "1.5.0",
       "_model_name": "RadioButtonsModel",
       "_options_labels": [
        "True",
        "False"
       ],
       "_view_count": null,
       "_view_module": "@jupyter-widgets/controls",
       "_view_module_version": "1.5.0",
       "_view_name": "RadioButtonsView",
       "description": "",
       "description_tooltip": null,
       "disabled": false,
       "index": null,
       "layout": "IPY_MODEL_ae718a3897944bdaa984fd263ddf5eef",
       "style": "IPY_MODEL_fcf5c9098e44411390106c3428017f4d"
      }
     },
     "a9a0c1ad99d54751954bbe00a1f331cf": {
      "model_module": "@jupyter-widgets/controls",
      "model_module_version": "1.5.0",
      "model_name": "ButtonStyleModel",
      "state": {
       "_model_module": "@jupyter-widgets/controls",
       "_model_module_version": "1.5.0",
       "_model_name": "ButtonStyleModel",
       "_view_count": null,
       "_view_module": "@jupyter-widgets/base",
       "_view_module_version": "1.2.0",
       "_view_name": "StyleView",
       "button_color": null,
       "font_weight": ""
      }
     },
     "ab3b11f58bc940e492b3621119008841": {
      "model_module": "@jupyter-widgets/controls",
      "model_module_version": "1.5.0",
      "model_name": "RadioButtonsModel",
      "state": {
       "_dom_classes": [],
       "_model_module": "@jupyter-widgets/controls",
       "_model_module_version": "1.5.0",
       "_model_name": "RadioButtonsModel",
       "_options_labels": [
        "target",
        "age",
        "sex",
        "bmi",
        "bp"
       ],
       "_view_count": null,
       "_view_module": "@jupyter-widgets/controls",
       "_view_module_version": "1.5.0",
       "_view_name": "RadioButtonsView",
       "description": "",
       "description_tooltip": null,
       "disabled": false,
       "index": null,
       "layout": "IPY_MODEL_fb6ad8d36b6b48e295400c2193f1e743",
       "style": "IPY_MODEL_f5ba71b0d16b45a191a8052f8fa888b8"
      }
     },
     "ae718a3897944bdaa984fd263ddf5eef": {
      "model_module": "@jupyter-widgets/base",
      "model_module_version": "1.2.0",
      "model_name": "LayoutModel",
      "state": {
       "_model_module": "@jupyter-widgets/base",
       "_model_module_version": "1.2.0",
       "_model_name": "LayoutModel",
       "_view_count": null,
       "_view_module": "@jupyter-widgets/base",
       "_view_module_version": "1.2.0",
       "_view_name": "LayoutView",
       "align_content": null,
       "align_items": null,
       "align_self": null,
       "border": null,
       "bottom": null,
       "display": null,
       "flex": null,
       "flex_flow": null,
       "grid_area": null,
       "grid_auto_columns": null,
       "grid_auto_flow": null,
       "grid_auto_rows": null,
       "grid_column": null,
       "grid_gap": null,
       "grid_row": null,
       "grid_template_areas": null,
       "grid_template_columns": null,
       "grid_template_rows": null,
       "height": null,
       "justify_content": null,
       "justify_items": null,
       "left": null,
       "margin": null,
       "max_height": null,
       "max_width": null,
       "min_height": null,
       "min_width": null,
       "object_fit": null,
       "object_position": null,
       "order": null,
       "overflow": null,
       "overflow_x": null,
       "overflow_y": null,
       "padding": null,
       "right": null,
       "top": null,
       "visibility": null,
       "width": "auto"
      }
     },
     "bf5ec59b0dc74a15aa13097e053c8dae": {
      "model_module": "@jupyter-widgets/controls",
      "model_module_version": "1.5.0",
      "model_name": "ButtonModel",
      "state": {
       "_dom_classes": [],
       "_model_module": "@jupyter-widgets/controls",
       "_model_module_version": "1.5.0",
       "_model_name": "ButtonModel",
       "_view_count": null,
       "_view_module": "@jupyter-widgets/controls",
       "_view_module_version": "1.5.0",
       "_view_name": "ButtonView",
       "button_style": "",
       "description": "submit",
       "disabled": false,
       "icon": "",
       "layout": "IPY_MODEL_d4b04c3e30184e67a1d20a41fe8ad061",
       "style": "IPY_MODEL_78d67d41c943400d9eb2e50fa37fc9f4",
       "tooltip": ""
      }
     },
     "c5b438da6e3d4ccaadce277c80bbaea1": {
      "model_module": "@jupyter-widgets/output",
      "model_module_version": "1.0.0",
      "model_name": "OutputModel",
      "state": {
       "_dom_classes": [],
       "_model_module": "@jupyter-widgets/output",
       "_model_module_version": "1.0.0",
       "_model_name": "OutputModel",
       "_view_count": null,
       "_view_module": "@jupyter-widgets/output",
       "_view_module_version": "1.0.0",
       "_view_name": "OutputView",
       "layout": "IPY_MODEL_83a2ec5a9ec044a9afa9ecb5bf6500ae",
       "msg_id": "",
       "outputs": []
      }
     },
     "c724683d6c294e5eba1577a687cdbbf4": {
      "model_module": "@jupyter-widgets/base",
      "model_module_version": "1.2.0",
      "model_name": "LayoutModel",
      "state": {
       "_model_module": "@jupyter-widgets/base",
       "_model_module_version": "1.2.0",
       "_model_name": "LayoutModel",
       "_view_count": null,
       "_view_module": "@jupyter-widgets/base",
       "_view_module_version": "1.2.0",
       "_view_name": "LayoutView",
       "align_content": null,
       "align_items": null,
       "align_self": null,
       "border": null,
       "bottom": null,
       "display": null,
       "flex": null,
       "flex_flow": null,
       "grid_area": null,
       "grid_auto_columns": null,
       "grid_auto_flow": null,
       "grid_auto_rows": null,
       "grid_column": null,
       "grid_gap": null,
       "grid_row": null,
       "grid_template_areas": null,
       "grid_template_columns": null,
       "grid_template_rows": null,
       "height": null,
       "justify_content": null,
       "justify_items": null,
       "left": null,
       "margin": null,
       "max_height": null,
       "max_width": null,
       "min_height": null,
       "min_width": null,
       "object_fit": null,
       "object_position": null,
       "order": null,
       "overflow": null,
       "overflow_x": null,
       "overflow_y": null,
       "padding": null,
       "right": null,
       "top": null,
       "visibility": null,
       "width": "auto"
      }
     },
     "c88478c4907845b8a0c8f395fffad9f5": {
      "model_module": "@jupyter-widgets/base",
      "model_module_version": "1.2.0",
      "model_name": "LayoutModel",
      "state": {
       "_model_module": "@jupyter-widgets/base",
       "_model_module_version": "1.2.0",
       "_model_name": "LayoutModel",
       "_view_count": null,
       "_view_module": "@jupyter-widgets/base",
       "_view_module_version": "1.2.0",
       "_view_name": "LayoutView",
       "align_content": null,
       "align_items": null,
       "align_self": null,
       "border": null,
       "bottom": null,
       "display": null,
       "flex": null,
       "flex_flow": null,
       "grid_area": null,
       "grid_auto_columns": null,
       "grid_auto_flow": null,
       "grid_auto_rows": null,
       "grid_column": null,
       "grid_gap": null,
       "grid_row": null,
       "grid_template_areas": null,
       "grid_template_columns": null,
       "grid_template_rows": null,
       "height": null,
       "justify_content": null,
       "justify_items": null,
       "left": null,
       "margin": null,
       "max_height": null,
       "max_width": null,
       "min_height": null,
       "min_width": null,
       "object_fit": null,
       "object_position": null,
       "order": null,
       "overflow": null,
       "overflow_x": null,
       "overflow_y": null,
       "padding": null,
       "right": null,
       "top": null,
       "visibility": null,
       "width": null
      }
     },
     "cbf6b3d8b82148d794c959e05c8e809a": {
      "model_module": "@jupyter-widgets/output",
      "model_module_version": "1.0.0",
      "model_name": "OutputModel",
      "state": {
       "_dom_classes": [],
       "_model_module": "@jupyter-widgets/output",
       "_model_module_version": "1.0.0",
       "_model_name": "OutputModel",
       "_view_count": null,
       "_view_module": "@jupyter-widgets/output",
       "_view_module_version": "1.0.0",
       "_view_name": "OutputView",
       "layout": "IPY_MODEL_513be9dcda8440128905ee23d571b3b1",
       "msg_id": "",
       "outputs": []
      }
     },
     "cc2f419e5b934368a1d05cc00a9dc09b": {
      "model_module": "@jupyter-widgets/base",
      "model_module_version": "1.2.0",
      "model_name": "LayoutModel",
      "state": {
       "_model_module": "@jupyter-widgets/base",
       "_model_module_version": "1.2.0",
       "_model_name": "LayoutModel",
       "_view_count": null,
       "_view_module": "@jupyter-widgets/base",
       "_view_module_version": "1.2.0",
       "_view_name": "LayoutView",
       "align_content": null,
       "align_items": null,
       "align_self": null,
       "border": null,
       "bottom": null,
       "display": null,
       "flex": null,
       "flex_flow": null,
       "grid_area": null,
       "grid_auto_columns": null,
       "grid_auto_flow": null,
       "grid_auto_rows": null,
       "grid_column": null,
       "grid_gap": null,
       "grid_row": null,
       "grid_template_areas": null,
       "grid_template_columns": null,
       "grid_template_rows": null,
       "height": null,
       "justify_content": null,
       "justify_items": null,
       "left": null,
       "margin": null,
       "max_height": null,
       "max_width": null,
       "min_height": null,
       "min_width": null,
       "object_fit": null,
       "object_position": null,
       "order": null,
       "overflow": null,
       "overflow_x": null,
       "overflow_y": null,
       "padding": null,
       "right": null,
       "top": null,
       "visibility": null,
       "width": "auto"
      }
     },
     "ce1f36450b2345fa98ffb104b744f880": {
      "model_module": "@jupyter-widgets/output",
      "model_module_version": "1.0.0",
      "model_name": "OutputModel",
      "state": {
       "_dom_classes": [],
       "_model_module": "@jupyter-widgets/output",
       "_model_module_version": "1.0.0",
       "_model_name": "OutputModel",
       "_view_count": null,
       "_view_module": "@jupyter-widgets/output",
       "_view_module_version": "1.0.0",
       "_view_name": "OutputView",
       "layout": "IPY_MODEL_df601abb726f492db5c1d519b7d7805d",
       "msg_id": "",
       "outputs": []
      }
     },
     "d4b04c3e30184e67a1d20a41fe8ad061": {
      "model_module": "@jupyter-widgets/base",
      "model_module_version": "1.2.0",
      "model_name": "LayoutModel",
      "state": {
       "_model_module": "@jupyter-widgets/base",
       "_model_module_version": "1.2.0",
       "_model_name": "LayoutModel",
       "_view_count": null,
       "_view_module": "@jupyter-widgets/base",
       "_view_module_version": "1.2.0",
       "_view_name": "LayoutView",
       "align_content": null,
       "align_items": null,
       "align_self": null,
       "border": null,
       "bottom": null,
       "display": null,
       "flex": null,
       "flex_flow": null,
       "grid_area": null,
       "grid_auto_columns": null,
       "grid_auto_flow": null,
       "grid_auto_rows": null,
       "grid_column": null,
       "grid_gap": null,
       "grid_row": null,
       "grid_template_areas": null,
       "grid_template_columns": null,
       "grid_template_rows": null,
       "height": null,
       "justify_content": null,
       "justify_items": null,
       "left": null,
       "margin": null,
       "max_height": null,
       "max_width": null,
       "min_height": null,
       "min_width": null,
       "object_fit": null,
       "object_position": null,
       "order": null,
       "overflow": null,
       "overflow_x": null,
       "overflow_y": null,
       "padding": null,
       "right": null,
       "top": null,
       "visibility": null,
       "width": null
      }
     },
     "d7ce6d89d3394350bc596c596e2b5483": {
      "model_module": "@jupyter-widgets/base",
      "model_module_version": "1.2.0",
      "model_name": "LayoutModel",
      "state": {
       "_model_module": "@jupyter-widgets/base",
       "_model_module_version": "1.2.0",
       "_model_name": "LayoutModel",
       "_view_count": null,
       "_view_module": "@jupyter-widgets/base",
       "_view_module_version": "1.2.0",
       "_view_name": "LayoutView",
       "align_content": null,
       "align_items": "stretch",
       "align_self": null,
       "border": "solid",
       "bottom": null,
       "display": "flex",
       "flex": null,
       "flex_flow": "column",
       "grid_area": null,
       "grid_auto_columns": null,
       "grid_auto_flow": null,
       "grid_auto_rows": null,
       "grid_column": null,
       "grid_gap": null,
       "grid_row": null,
       "grid_template_areas": null,
       "grid_template_columns": null,
       "grid_template_rows": null,
       "height": null,
       "justify_content": null,
       "justify_items": null,
       "left": null,
       "margin": null,
       "max_height": null,
       "max_width": null,
       "min_height": null,
       "min_width": null,
       "object_fit": null,
       "object_position": null,
       "order": null,
       "overflow": null,
       "overflow_x": null,
       "overflow_y": null,
       "padding": null,
       "right": null,
       "top": null,
       "visibility": null,
       "width": "100%"
      }
     },
     "dc6ba6e1facf4266b13aeb17a4a1eefd": {
      "model_module": "@jupyter-widgets/controls",
      "model_module_version": "1.5.0",
      "model_name": "VBoxModel",
      "state": {
       "_dom_classes": [],
       "_model_module": "@jupyter-widgets/controls",
       "_model_module_version": "1.5.0",
       "_model_name": "VBoxModel",
       "_view_count": null,
       "_view_module": "@jupyter-widgets/controls",
       "_view_module_version": "1.5.0",
       "_view_name": "VBoxView",
       "box_style": "",
       "children": [
        "IPY_MODEL_de305b35db414384bc41cbd055ddc834",
        "IPY_MODEL_0a2cd7ed48144428af62d20219ca4143",
        "IPY_MODEL_3ef0d76cf9e142c48bc01f8d68f68375",
        "IPY_MODEL_c5b438da6e3d4ccaadce277c80bbaea1"
       ],
       "layout": "IPY_MODEL_525c2de5b77d472e9b7e9660cbd9694f"
      }
     },
     "de305b35db414384bc41cbd055ddc834": {
      "model_module": "@jupyter-widgets/output",
      "model_module_version": "1.0.0",
      "model_name": "OutputModel",
      "state": {
       "_dom_classes": [],
       "_model_module": "@jupyter-widgets/output",
       "_model_module_version": "1.0.0",
       "_model_name": "OutputModel",
       "_view_count": null,
       "_view_module": "@jupyter-widgets/output",
       "_view_module_version": "1.0.0",
       "_view_name": "OutputView",
       "layout": "IPY_MODEL_3eb938535c8544c7aeb9b06b4e4a867f",
       "msg_id": "",
       "outputs": [
        {
         "data": {
          "text/markdown": "### Please select the sentence that best interprets the slope term.",
          "text/plain": "<IPython.core.display.Markdown object>"
         },
         "metadata": {},
         "output_type": "display_data"
        }
       ]
      }
     },
     "df601abb726f492db5c1d519b7d7805d": {
      "model_module": "@jupyter-widgets/base",
      "model_module_version": "1.2.0",
      "model_name": "LayoutModel",
      "state": {
       "_model_module": "@jupyter-widgets/base",
       "_model_module_version": "1.2.0",
       "_model_name": "LayoutModel",
       "_view_count": null,
       "_view_module": "@jupyter-widgets/base",
       "_view_module_version": "1.2.0",
       "_view_name": "LayoutView",
       "align_content": null,
       "align_items": null,
       "align_self": null,
       "border": null,
       "bottom": null,
       "display": null,
       "flex": null,
       "flex_flow": null,
       "grid_area": null,
       "grid_auto_columns": null,
       "grid_auto_flow": null,
       "grid_auto_rows": null,
       "grid_column": null,
       "grid_gap": null,
       "grid_row": null,
       "grid_template_areas": null,
       "grid_template_columns": null,
       "grid_template_rows": null,
       "height": null,
       "justify_content": null,
       "justify_items": null,
       "left": null,
       "margin": null,
       "max_height": null,
       "max_width": null,
       "min_height": null,
       "min_width": null,
       "object_fit": null,
       "object_position": null,
       "order": null,
       "overflow": null,
       "overflow_x": null,
       "overflow_y": null,
       "padding": null,
       "right": null,
       "top": null,
       "visibility": null,
       "width": null
      }
     },
     "effebdebc52f4f548a05bb33b1fc8c5b": {
      "model_module": "@jupyter-widgets/base",
      "model_module_version": "1.2.0",
      "model_name": "LayoutModel",
      "state": {
       "_model_module": "@jupyter-widgets/base",
       "_model_module_version": "1.2.0",
       "_model_name": "LayoutModel",
       "_view_count": null,
       "_view_module": "@jupyter-widgets/base",
       "_view_module_version": "1.2.0",
       "_view_name": "LayoutView",
       "align_content": null,
       "align_items": null,
       "align_self": null,
       "border": null,
       "bottom": null,
       "display": null,
       "flex": null,
       "flex_flow": null,
       "grid_area": null,
       "grid_auto_columns": null,
       "grid_auto_flow": null,
       "grid_auto_rows": null,
       "grid_column": null,
       "grid_gap": null,
       "grid_row": null,
       "grid_template_areas": null,
       "grid_template_columns": null,
       "grid_template_rows": null,
       "height": null,
       "justify_content": null,
       "justify_items": null,
       "left": null,
       "margin": null,
       "max_height": null,
       "max_width": null,
       "min_height": null,
       "min_width": null,
       "object_fit": null,
       "object_position": null,
       "order": null,
       "overflow": null,
       "overflow_x": null,
       "overflow_y": null,
       "padding": null,
       "right": null,
       "top": null,
       "visibility": null,
       "width": null
      }
     },
     "f1d6c507e8464510b458798a7cf9475b": {
      "model_module": "@jupyter-widgets/controls",
      "model_module_version": "1.5.0",
      "model_name": "DescriptionStyleModel",
      "state": {
       "_model_module": "@jupyter-widgets/controls",
       "_model_module_version": "1.5.0",
       "_model_name": "DescriptionStyleModel",
       "_view_count": null,
       "_view_module": "@jupyter-widgets/base",
       "_view_module_version": "1.2.0",
       "_view_name": "StyleView",
       "description_width": ""
      }
     },
     "f5ba71b0d16b45a191a8052f8fa888b8": {
      "model_module": "@jupyter-widgets/controls",
      "model_module_version": "1.5.0",
      "model_name": "DescriptionStyleModel",
      "state": {
       "_model_module": "@jupyter-widgets/controls",
       "_model_module_version": "1.5.0",
       "_model_name": "DescriptionStyleModel",
       "_view_count": null,
       "_view_module": "@jupyter-widgets/base",
       "_view_module_version": "1.2.0",
       "_view_name": "StyleView",
       "description_width": ""
      }
     },
     "f6dbdf05484a480a97d1211727b52d9e": {
      "model_module": "@jupyter-widgets/controls",
      "model_module_version": "1.5.0",
      "model_name": "CheckboxModel",
      "state": {
       "_dom_classes": [],
       "_model_module": "@jupyter-widgets/controls",
       "_model_module_version": "1.5.0",
       "_model_name": "CheckboxModel",
       "_view_count": null,
       "_view_module": "@jupyter-widgets/controls",
       "_view_module_version": "1.5.0",
       "_view_name": "CheckboxView",
       "description": "sex",
       "description_tooltip": null,
       "disabled": false,
       "indent": true,
       "layout": "IPY_MODEL_cc2f419e5b934368a1d05cc00a9dc09b",
       "style": "IPY_MODEL_f1d6c507e8464510b458798a7cf9475b",
       "value": false
      }
     },
     "fb6ad8d36b6b48e295400c2193f1e743": {
      "model_module": "@jupyter-widgets/base",
      "model_module_version": "1.2.0",
      "model_name": "LayoutModel",
      "state": {
       "_model_module": "@jupyter-widgets/base",
       "_model_module_version": "1.2.0",
       "_model_name": "LayoutModel",
       "_view_count": null,
       "_view_module": "@jupyter-widgets/base",
       "_view_module_version": "1.2.0",
       "_view_name": "LayoutView",
       "align_content": null,
       "align_items": null,
       "align_self": null,
       "border": null,
       "bottom": null,
       "display": null,
       "flex": null,
       "flex_flow": null,
       "grid_area": null,
       "grid_auto_columns": null,
       "grid_auto_flow": null,
       "grid_auto_rows": null,
       "grid_column": null,
       "grid_gap": null,
       "grid_row": null,
       "grid_template_areas": null,
       "grid_template_columns": null,
       "grid_template_rows": null,
       "height": null,
       "justify_content": null,
       "justify_items": null,
       "left": null,
       "margin": null,
       "max_height": null,
       "max_width": null,
       "min_height": null,
       "min_width": null,
       "object_fit": null,
       "object_position": null,
       "order": null,
       "overflow": null,
       "overflow_x": null,
       "overflow_y": null,
       "padding": null,
       "right": null,
       "top": null,
       "visibility": null,
       "width": "auto"
      }
     },
     "fcf5c9098e44411390106c3428017f4d": {
      "model_module": "@jupyter-widgets/controls",
      "model_module_version": "1.5.0",
      "model_name": "DescriptionStyleModel",
      "state": {
       "_model_module": "@jupyter-widgets/controls",
       "_model_module_version": "1.5.0",
       "_model_name": "DescriptionStyleModel",
       "_view_count": null,
       "_view_module": "@jupyter-widgets/base",
       "_view_module_version": "1.2.0",
       "_view_name": "StyleView",
       "description_width": ""
      }
     }
    },
    "version_major": 2,
    "version_minor": 0
   }
  }
 },
 "nbformat": 4,
 "nbformat_minor": 5
}
