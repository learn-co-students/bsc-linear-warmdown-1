{
 "cells": [
  {
   "cell_type": "code",
   "execution_count": 2,
   "metadata": {
    "index": 0
   },
   "outputs": [],
   "source": [
    "# Primary libraries\n",
    "import pandas as pd\n",
    "import numpy as np\n",
    "import statsmodels.api as sm\n",
    "import statsmodels.formula.api as smf\n",
    "\n",
    "# Custom functions\n",
    "from src import helpers"
   ]
  },
  {
   "cell_type": "markdown",
   "metadata": {
    "index": 1
   },
   "source": [
    "# Linear Regression Practice"
   ]
  },
  {
   "cell_type": "markdown",
   "metadata": {
    "index": 2
   },
   "source": [
    "A dataset called `diabetes.csv` is stored in the `data` folder for this repository. \n",
    "\n",
    "In the cell below, read in the dataset using pandas, and output the head of the dataframe. Assign the dataframe to the variable `df`."
   ]
  },
  {
   "cell_type": "code",
   "execution_count": null,
   "metadata": {
    "index": 3
   },
   "outputs": [],
   "source": [
    "# Your code here"
   ]
  },
  {
   "cell_type": "code",
   "execution_count": null,
   "metadata": {
    "index": 4
   },
   "outputs": [],
   "source": [
    "#==SOLUTION== \n",
    "df = pd.read_csv('data/diabetes.csv')\n",
    "df.head()"
   ]
  },
  {
   "cell_type": "markdown",
   "metadata": {
    "index": 5
   },
   "source": [
    "**Each row in this dataset represents a patient with diabetes.** \n",
    "\n",
    "For this assignment, the variables of focus will be:\n",
    "* age\n",
    "* sex\n",
    "* bmi\n",
    "* bp\n",
    "* target\n",
    "\n",
    "<details>\n",
    "    <summary>\n",
    "        <i>Click here to view the documentation for the dataset\n",
    "        </i>\n",
    "    </summary>\n",
    "    <h1>Diabetes dataset</h1>\n",
    "    <p>\n",
    "\n",
    "\n",
    "Ten baseline variables, age, sex, body mass index, average blood\n",
    "pressure, and six blood serum measurements were obtained for each of n =\n",
    "442 diabetes patients, as well as the response of interest, a\n",
    "quantitative measure of disease progression one year after baseline.\n",
    "\n",
    "**Data Set Characteristics:**\n",
    "\n",
    "  :Number of Instances: 442\n",
    "\n",
    "  :Number of Attributes: First 10 columns are numeric predictive values\n",
    "\n",
    "  :Target: Column 11 is a quantitative measure of disease progression one year after baseline\n",
    "\n",
    "  :Attribute Information:\n",
    "      - age     age in years\n",
    "      - sex\n",
    "      - bmi     body mass index\n",
    "      - bp      average blood pressure\n",
    "      - s1      tc, total serum cholesterol\n",
    "      - s2      ldl, low-density lipoproteins\n",
    "      - s3      hdl, high-density lipoproteins\n",
    "      - s4      tch, total cholesterol / HDL\n",
    "      - s5      ltg, possibly log of serum triglycerides level\n",
    "      - s6      glu, blood sugar level\n",
    "\n",
    "Note: Each of these 10 feature variables have been mean centered and scaled by the standard deviation times `n_samples` (i.e. the sum of squares of each column totals 1).\n",
    "\n",
    "Source URL:\n",
    "https://www4.stat.ncsu.edu/~boos/var.select/diabetes.html\n",
    "\n",
    "For more information see:\n",
    "Bradley Efron, Trevor Hastie, Iain Johnstone and Robert Tibshirani (2004) \"Least Angle Regression,\" Annals of Statistics (with discussion), 407-499.\n",
    "(https://web.stanford.edu/~hastie/Papers/LARS/LeastAngle_2002.pdf)\n",
    "    \n",
    "  </p>\n",
    "</details>"
   ]
  },
  {
   "cell_type": "markdown",
   "metadata": {
    "index": 6
   },
   "source": [
    "Let's go ahead and select the desired columns."
   ]
  },
  {
   "cell_type": "code",
   "execution_count": null,
   "metadata": {
    "index": 7
   },
   "outputs": [],
   "source": [
    "df = df[['target', 'age', 'sex', 'bmi', 'bp']]\n",
    "df.head(2)"
   ]
  },
  {
   "cell_type": "code",
   "execution_count": 6,
   "metadata": {
    "index": 8
   },
   "outputs": [
    {
     "data": {
      "application/vnd.jupyter.widget-view+json": {
       "model_id": "c8287745ef3a4f89b700e3da8266ba13",
       "version_major": 2,
       "version_minor": 0
      },
      "text/plain": [
       "VBox(children=(Output(outputs=({'output_type': 'display_data', 'data': {'text/plain': '<IPython.core.display.M…"
      ]
     },
     "metadata": {},
     "output_type": "display_data"
    }
   ],
   "source": [
    "# Run this cell unchanged\n",
    "helpers.independent.display()"
   ]
  },
  {
   "cell_type": "markdown",
   "metadata": {
    "index": 9
   },
   "source": [
    "**For our first model, let's figure out which column is most correlated with the target.**\n",
    "\n",
    "In the cell below,\n",
    "\n",
    "* Identify the most correlated feature with the target column.\n",
    "* Assign the name of the column to the variable `most_correlated`."
   ]
  },
  {
   "cell_type": "code",
   "execution_count": null,
   "metadata": {
    "index": 10
   },
   "outputs": [],
   "source": [
    "# Your code here"
   ]
  },
  {
   "cell_type": "code",
   "execution_count": null,
   "metadata": {
    "index": 11
   },
   "outputs": [],
   "source": [
    "#==SOLUTION== \n",
    "most_correlated = df.corr().sort_values('target').iloc[-2].name"
   ]
  },
  {
   "cell_type": "code",
   "execution_count": 4,
   "metadata": {
    "index": 12
   },
   "outputs": [
    {
     "data": {
      "application/vnd.jupyter.widget-view+json": {
       "model_id": "a1c99150a54a42ca876648d26578dd6a",
       "version_major": 2,
       "version_minor": 0
      },
      "text/plain": [
       "VBox(children=(Output(outputs=({'output_type': 'display_data', 'data': {'text/plain': '<IPython.core.display.M…"
      ]
     },
     "metadata": {},
     "output_type": "display_data"
    }
   ],
   "source": [
    "# Run this cell unchanged!\n",
    "helpers.correlation.display()"
   ]
  },
  {
   "cell_type": "code",
   "execution_count": 5,
   "metadata": {
    "index": 13
   },
   "outputs": [
    {
     "data": {
      "application/vnd.jupyter.widget-view+json": {
       "model_id": "4d68c1e729584ae58d27f547c1bc8ba7",
       "version_major": 2,
       "version_minor": 0
      },
      "text/plain": [
       "VBox(children=(Output(outputs=({'output_type': 'display_data', 'data': {'text/plain': '<IPython.core.display.M…"
      ]
     },
     "metadata": {},
     "output_type": "display_data"
    }
   ],
   "source": [
    "# Run this cell unchanged!\n",
    "helpers.correlation_strong.display()"
   ]
  },
  {
   "cell_type": "markdown",
   "metadata": {
    "index": 14
   },
   "source": [
    "Let's create a model using the most correlated feature as the only predictor.\n",
    "\n",
    "## There are two main ways of creating a linear regression model when using `statsmodels`. \n",
    "### 1. The pythonic way\n",
    "   - For this approach you will typcally see statsmodels imported with the line `import statsmodels.api as sm`\n",
    "   - Using this approach, you create the model by passing the actual data objects into the model like so..\n",
    "        \n",
    "        --------------\n",
    "        ```python\n",
    "        model = sm.OLS(df.target, df.bmi)\n",
    "        model_results = model.fit()\n",
    "        ```\n",
    "        --------------\n",
    "       \n",
    "       \n",
    "   - This approach can be handy when you have a lot a features and do not wish to type the name of each column because you can pass in an entire dataframe of predictors.\n",
    "   - One small annoyance with this approach is that the model does not use an intercept by default so you typically have to add the intercept manually\n",
    "    \n",
    "    \n",
    "    --------------\n",
    "    ```python\n",
    "    model = sm.OLS(df.target, df[['bmi']].assign(intercept=1))\n",
    "    model_results = model.fit()\n",
    "    ```\n",
    "    \n",
    "    ----------------\n",
    "    \n",
    "### 2. The `R` formula way\n",
    "   - For this approach you will typically see statsmodels imported with the line `import statsmodels.formula.api as smf`\n",
    "   - Using this approach, you write your linear equation as a string with the following format:\n",
    "    \n",
    "```python\n",
    "'{dependent_variable} ~ {independent_variable_1} + ... {indepdendent_variable_n}'\n",
    "```\n",
    "        \n",
    "   - In this case, with a dependent variable of `target` and a single independent variable of `bmi`, our formula looks like this:\n",
    "   ```python\n",
    "    'target ~ bmi'\n",
    "    ```\n",
    "   - And the full modeling code looks like this:\n",
    "   \n",
    "   --------\n",
    "   \n",
    "```python\n",
    "formula = 'target ~ bmi'\n",
    "model = smf.ols(formula, data=df)\n",
    "model_results = model.fit()\n",
    "```\n",
    "    \n",
    "   --------\n",
    "    \n",
    "   - Using this approach, the intercept is added by default\n",
    "   - One downside of this approach is that writing the formula can be a little cumbersome when you have a lot of features\n",
    "   \n",
    "   \n",
    "## tl;dr There are multiple ways of creating a model, but either option works perfectly fine. \n",
    "\n",
    "In this notebook, we will focus on using the `R` formula method for the following reasons:\n",
    "1. This bootcamp focuses primarily on  *Ordinary Least Squares Linear Regression*, but there are some more advanced versions of linear regression in statsmodels that are only supported by the formula approach. Because of this, familiarity with the formula technique is a highly encouraged.\n",
    "2. The formula approach adds an intercept term by default which is extremely convenient!"
   ]
  },
  {
   "cell_type": "markdown",
   "metadata": {
    "index": 15
   },
   "source": [
    "**In the cell below, write the formula for our first linear regression model and assign the string to a variable called `formula`.**"
   ]
  },
  {
   "cell_type": "code",
   "execution_count": null,
   "metadata": {
    "index": 16
   },
   "outputs": [],
   "source": [
    "# Your code here"
   ]
  },
  {
   "cell_type": "code",
   "execution_count": null,
   "metadata": {
    "index": 17
   },
   "outputs": [],
   "source": [
    "#==SOLUTION== \n",
    "formula = 'target ~ bmi'"
   ]
  },
  {
   "cell_type": "markdown",
   "metadata": {
    "index": 18
   },
   "source": [
    "Let's fit the model and interpret the results!"
   ]
  },
  {
   "cell_type": "code",
   "execution_count": null,
   "metadata": {
    "index": 19
   },
   "outputs": [],
   "source": [
    "model = smf.ols(formula, df)\n",
    "model_results = model.fit()\n",
    "model_results.summary().tables[1]"
   ]
  },
  {
   "cell_type": "markdown",
   "metadata": {
    "index": 20
   },
   "source": [
    "**Using the table above, we have all the information we need to write a linear equation.**\n",
    "\n",
    "Intercept = 152.1335\n",
    "\n",
    "Slope = 949.4353\n",
    "\n",
    "Linear Equation:  $target = 152.1335 + 949.4353bmi$"
   ]
  },
  {
   "cell_type": "markdown",
   "metadata": {
    "index": 21
   },
   "source": [
    "## Interpret the numbers"
   ]
  },
  {
   "cell_type": "markdown",
   "metadata": {
    "index": 22
   },
   "source": [
    "#### Interpreting the intercept"
   ]
  },
  {
   "cell_type": "code",
   "execution_count": null,
   "metadata": {
    "index": 23
   },
   "outputs": [],
   "source": [
    "# Run this cell unchanged\n",
    "helpers.intercept.display()"
   ]
  },
  {
   "cell_type": "markdown",
   "metadata": {
    "index": 24
   },
   "source": [
    "#### Interpret the slope"
   ]
  },
  {
   "cell_type": "code",
   "execution_count": null,
   "metadata": {
    "index": 25
   },
   "outputs": [],
   "source": [
    "# Run this cell unchanged\n",
    "helpers.slope.display()"
   ]
  }
 ],
 "metadata": {
  "kernelspec": {
   "display_name": "Python 3",
   "language": "python",
   "name": "python3"
  },
  "language_info": {
   "codemirror_mode": {
    "name": "ipython",
    "version": 3
   },
   "file_extension": ".py",
   "mimetype": "text/x-python",
   "name": "python",
   "nbconvert_exporter": "python",
   "pygments_lexer": "ipython3",
   "version": "3.7.4"
  }
 },
 "nbformat": 4,
 "nbformat_minor": 4
}
